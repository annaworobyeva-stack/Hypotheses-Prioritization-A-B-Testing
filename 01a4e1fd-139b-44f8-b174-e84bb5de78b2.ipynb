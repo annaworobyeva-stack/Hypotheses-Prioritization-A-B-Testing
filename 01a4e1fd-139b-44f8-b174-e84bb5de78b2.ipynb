{
 "cells": [
  {
   "cell_type": "markdown",
   "metadata": {},
   "source": [
    "<div style=\"background:#e5e5e5; color:#000; padding:10px\">\n",
    "\n",
    "Привет еще раз!\\\n",
    "Все критические замечания устранены, проект принят!\n",
    " \n",
    "Желаю тебе успехов во всех будущих начинаниях! 🙂\n",
    "</div>"
   ]
  },
  {
   "cell_type": "markdown",
   "metadata": {},
   "source": [
    "<div style=\"border:solid black 2px; padding: 20px\">\n",
    "Анна, привет!\n",
    "\n",
    "Меня зовут Сергей, и я буду делать ревью твоего проекта. Давай будем общаться на «ты». Но если тебе комфортнее на «вы», обязательно сообщи мне об этом. Моя основная цель - не указать тебе на совершенные тобой ошибки, а поделиться своим опытом и помочь тебе стать аналитиком данных.\n",
    "    \n",
    "Свои комментарии я буду выделять следующим образом:\n",
    "<div class=\"alert alert-danger\">\n",
    "    \n",
    "  <b>Комментарий ревьюера</b>\n",
    "    \n",
    "  ❌ Так выделено то, что необходимо исправить, прежде чем я смогу принять твой проект.\n",
    "</div>\n",
    "    \n",
    "    \n",
    "<div class=\"alert alert-warning\">\n",
    "    \n",
    "  <b>Комментарий ревьюера</b>\n",
    "    \n",
    "  ⚠️ Так отмечены не обязательные к доработке моменты. Mожешь учесть их при редактировании проекта. На твое усмотрение.\n",
    "</div>\n",
    "    \n",
    "    \n",
    "<div class=\"alert alert-success\">\n",
    "  \n",
    "  <b>Комментарий ревьюера</b>\n",
    "    \n",
    "  ✔️ А так удачные решения и подходы, на которые стоит опираться в будущих проектах.\n",
    "</div>\n",
    "    \n",
    "    \n",
    "<div style=\"border:solid black 2px; padding: 20px\">\n",
    "  \n",
    "    \n",
    "  <b>Чек-лист доработок</b>\n",
    "    \n",
    "  📃 Такой комментарий будет в конце тетрадки. В нем будут еще раз указаны нюансы, требующие обязательного исправления.\n",
    "</div>\n",
    "\n",
    "Предлагаю работать над проектом в форме диалога: если ты <b>что-то меняешь</b> в работе по моим рекомендациям — <b>напиши об этом</b> в ячейке `Markdown` и помечай комментарий каким-то заметным цветом, например так:\n",
    "    \n",
    "    \n",
    "```\n",
    "<div class=\"alert alert-block alert-info\">\n",
    "  \n",
    "  <b>Комментарий cтудента</b>\n",
    "    \n",
    "  Текст комментария.\n",
    "</div>\n",
    "```\n",
    "    \n",
    "<div class=\"alert alert-block alert-info\">\n",
    "  \n",
    "  <b>Комментарий cтудента</b>\n",
    "    \n",
    "  Текст комментария.\n",
    "</div>\n",
    "    \n",
    "Пожалуйста, <b>не перемещай, не изменяй и не удаляй мои комментарии</b>. Такой формат работы поможет выполнить повторную проверку твоего проекта оперативнее.\n",
    "\n",
    "<div style=\"background:#e5e5e5; color:#000; padding:10px\">\n",
    "    <b>Общее впечатление о проекте</b>\n",
    "    \n",
    "Ты верно провела приоритезацию гипотез и проанализировала результаты A/B-теста. Но в проекте есть моменты, которые требуют твоего внимания и доработки. \n",
    "</div>"
   ]
  },
  {
   "cell_type": "markdown",
   "metadata": {},
   "source": [
    "# Проектная работа\n",
    "# Принятие решений в бизнесе. \n",
    "# Приоритизация гипотез, А/В тестирование.\n"
   ]
  },
  {
   "cell_type": "markdown",
   "metadata": {},
   "source": [
    "<b> Цель: </b> Провести приоритизацию гипотез. Сделать анализ результатов А/В теста,\n",
    "\n",
    "\n",
    "<b> План: \n",
    "    \n",
    "Часть 1. Приоритизация гипотез.</b>\n",
    "\n",
    "1.1. Загрузить данные и подготовить к анализу\n",
    "\n",
    "1.2. Применить фреймворк ICE для приоритизации гипотез\n",
    "\n",
    "1.3. Применить фреймворк RICE для приоритизации гипотез.\n",
    "\n",
    "1.4. Сравнение результатов, вывод.\n",
    "\n",
    "\n",
    "\n",
    "<b> Часть 2. Анализ A/B-теста.</b>\n",
    "\n",
    "2.1. Загрузить данные и подготовить к анализу\n",
    "\n",
    "2.2. Проверить данные на дубликаты и на соответствие их типу\n",
    "\n",
    "2.3. Создать датафрейм с кумулятивными значениями и построить графики этих значений\n",
    "\n",
    "2.4. Построить точечные графики для определения выбросов\n",
    "\n",
    "2.5. Провера гипотез по результатам А/В теста\n",
    "\n",
    "2.2. Вывод и рекомендации"
   ]
  },
  {
   "cell_type": "markdown",
   "metadata": {},
   "source": [
    "<b>Часть 1. Приоритизация гипотез.\n",
    "\n",
    "1.1. Загрузка данных и подготовка их к анализу .</b>\n",
    "\n",
    "Описание данных:\n",
    "    \n",
    "    • Hypothesis — краткое описание гипотезы;\n",
    "    • Reach — охват пользователей по 10-балльной шкале;\n",
    "    • Impact — влияние на пользователей по 10-балльной шкале;\n",
    "    • Confidence — уверенность в гипотезе по 10-балльной шкале;\n",
    "    • Efforts — затраты ресурсов на проверку гипотезы по 10-балльной шкале. Чем больше значение Efforts, тем дороже проверка гипотезы."
   ]
  },
  {
   "cell_type": "markdown",
   "metadata": {},
   "source": [
    "<div class=\"alert alert-success\">\n",
    "  \n",
    "  <b>Комментарий ревьюера</b>\n",
    "    \n",
    "  ✔️ Хорошо, что есть описание и цели проекта.\n",
    "</div>"
   ]
  },
  {
   "cell_type": "code",
   "execution_count": 1,
   "metadata": {},
   "outputs": [],
   "source": [
    "# импортируем библотеки\n",
    "\n",
    "import pandas as pd\n",
    "import numpy as np\n",
    "import matplotlib.pyplot as plt\n",
    "import seaborn as sns\n",
    "import scipy.stats as stats\n",
    "import datetime as dt\n"
   ]
  },
  {
   "cell_type": "code",
   "execution_count": 2,
   "metadata": {},
   "outputs": [],
   "source": [
    "# загрузим данные в переменную\n",
    "\n",
    "hypothesis = pd.read_csv('/datasets/hypothesis.csv')"
   ]
  },
  {
   "cell_type": "code",
   "execution_count": 3,
   "metadata": {},
   "outputs": [
    {
     "data": {
      "text/plain": [
       "'Гипотезы'"
      ]
     },
     "metadata": {},
     "output_type": "display_data"
    },
    {
     "data": {
      "text/html": [
       "<div>\n",
       "<style scoped>\n",
       "    .dataframe tbody tr th:only-of-type {\n",
       "        vertical-align: middle;\n",
       "    }\n",
       "\n",
       "    .dataframe tbody tr th {\n",
       "        vertical-align: top;\n",
       "    }\n",
       "\n",
       "    .dataframe thead th {\n",
       "        text-align: right;\n",
       "    }\n",
       "</style>\n",
       "<table border=\"1\" class=\"dataframe\">\n",
       "  <thead>\n",
       "    <tr style=\"text-align: right;\">\n",
       "      <th></th>\n",
       "      <th>Hypothesis</th>\n",
       "      <th>Reach</th>\n",
       "      <th>Impact</th>\n",
       "      <th>Confidence</th>\n",
       "      <th>Efforts</th>\n",
       "    </tr>\n",
       "  </thead>\n",
       "  <tbody>\n",
       "    <tr>\n",
       "      <th>0</th>\n",
       "      <td>Добавить два новых канала привлечения трафика,...</td>\n",
       "      <td>3</td>\n",
       "      <td>10</td>\n",
       "      <td>8</td>\n",
       "      <td>6</td>\n",
       "    </tr>\n",
       "    <tr>\n",
       "      <th>1</th>\n",
       "      <td>Запустить собственную службу доставки, что сок...</td>\n",
       "      <td>2</td>\n",
       "      <td>5</td>\n",
       "      <td>4</td>\n",
       "      <td>10</td>\n",
       "    </tr>\n",
       "    <tr>\n",
       "      <th>2</th>\n",
       "      <td>Добавить блоки рекомендаций товаров на сайт ин...</td>\n",
       "      <td>8</td>\n",
       "      <td>3</td>\n",
       "      <td>7</td>\n",
       "      <td>3</td>\n",
       "    </tr>\n",
       "    <tr>\n",
       "      <th>3</th>\n",
       "      <td>Изменить структура категорий, что увеличит кон...</td>\n",
       "      <td>8</td>\n",
       "      <td>3</td>\n",
       "      <td>3</td>\n",
       "      <td>8</td>\n",
       "    </tr>\n",
       "    <tr>\n",
       "      <th>4</th>\n",
       "      <td>Изменить цвет фона главной страницы, чтобы уве...</td>\n",
       "      <td>3</td>\n",
       "      <td>1</td>\n",
       "      <td>1</td>\n",
       "      <td>1</td>\n",
       "    </tr>\n",
       "    <tr>\n",
       "      <th>5</th>\n",
       "      <td>Добавить страницу отзывов клиентов о магазине,...</td>\n",
       "      <td>3</td>\n",
       "      <td>2</td>\n",
       "      <td>2</td>\n",
       "      <td>3</td>\n",
       "    </tr>\n",
       "    <tr>\n",
       "      <th>6</th>\n",
       "      <td>Показать на главной странице баннеры с актуаль...</td>\n",
       "      <td>5</td>\n",
       "      <td>3</td>\n",
       "      <td>8</td>\n",
       "      <td>3</td>\n",
       "    </tr>\n",
       "    <tr>\n",
       "      <th>7</th>\n",
       "      <td>Добавить форму подписки на все основные страни...</td>\n",
       "      <td>10</td>\n",
       "      <td>7</td>\n",
       "      <td>8</td>\n",
       "      <td>5</td>\n",
       "    </tr>\n",
       "    <tr>\n",
       "      <th>8</th>\n",
       "      <td>Запустить акцию, дающую скидку на товар в день...</td>\n",
       "      <td>1</td>\n",
       "      <td>9</td>\n",
       "      <td>9</td>\n",
       "      <td>5</td>\n",
       "    </tr>\n",
       "  </tbody>\n",
       "</table>\n",
       "</div>"
      ],
      "text/plain": [
       "                                          Hypothesis  Reach  Impact  \\\n",
       "0  Добавить два новых канала привлечения трафика,...      3      10   \n",
       "1  Запустить собственную службу доставки, что сок...      2       5   \n",
       "2  Добавить блоки рекомендаций товаров на сайт ин...      8       3   \n",
       "3  Изменить структура категорий, что увеличит кон...      8       3   \n",
       "4  Изменить цвет фона главной страницы, чтобы уве...      3       1   \n",
       "5  Добавить страницу отзывов клиентов о магазине,...      3       2   \n",
       "6  Показать на главной странице баннеры с актуаль...      5       3   \n",
       "7  Добавить форму подписки на все основные страни...     10       7   \n",
       "8  Запустить акцию, дающую скидку на товар в день...      1       9   \n",
       "\n",
       "   Confidence  Efforts  \n",
       "0           8        6  \n",
       "1           4       10  \n",
       "2           7        3  \n",
       "3           3        8  \n",
       "4           1        1  \n",
       "5           2        3  \n",
       "6           8        3  \n",
       "7           8        5  \n",
       "8           9        5  "
      ]
     },
     "metadata": {},
     "output_type": "display_data"
    },
    {
     "name": "stdout",
     "output_type": "stream",
     "text": [
      "<class 'pandas.core.frame.DataFrame'>\n",
      "RangeIndex: 9 entries, 0 to 8\n",
      "Data columns (total 5 columns):\n",
      " #   Column      Non-Null Count  Dtype \n",
      "---  ------      --------------  ----- \n",
      " 0   Hypothesis  9 non-null      object\n",
      " 1   Reach       9 non-null      int64 \n",
      " 2   Impact      9 non-null      int64 \n",
      " 3   Confidence  9 non-null      int64 \n",
      " 4   Efforts     9 non-null      int64 \n",
      "dtypes: int64(4), object(1)\n",
      "memory usage: 488.0+ bytes\n"
     ]
    },
    {
     "data": {
      "text/plain": [
       "None"
      ]
     },
     "metadata": {},
     "output_type": "display_data"
    }
   ],
   "source": [
    "# рассмотрим датасет\n",
    "\n",
    "display('Гипотезы', hypothesis)\n",
    "display(hypothesis.info())"
   ]
  },
  {
   "cell_type": "markdown",
   "metadata": {},
   "source": [
    "Нам дан датасет с 9 гипотезами и их оценкой по показателям Reach, Impact, Confidence, Efforts. Пропусков нет, типы данных верные."
   ]
  },
  {
   "cell_type": "markdown",
   "metadata": {},
   "source": [
    "<b>1.2. Применение фреймворка ICE для приоритизации гипотез<b/>"
   ]
  },
  {
   "cell_type": "code",
   "execution_count": 4,
   "metadata": {},
   "outputs": [
    {
     "name": "stdout",
     "output_type": "stream",
     "text": [
      "                                                                                                  Hypothesis  ICE\n",
      "                                                     Запустить акцию, дающую скидку на товар в день рождения 16.0\n",
      "          Добавить два новых канала привлечения трафика, что позволит привлекать на 30% больше пользователей 13.0\n",
      "            Добавить форму подписки на все основные страницы, чтобы собрать базу клиентов для email-рассылок 11.0\n",
      "        Показать на главной странице баннеры с актуальными акциями и распродажами, чтобы увеличить конверсию  8.0\n",
      "Добавить блоки рекомендаций товаров на сайт интернет магазина, чтобы повысить конверсию и средний чек заказа  7.0\n",
      "                                   Запустить собственную службу доставки, что сократит срок доставки заказов  2.0\n",
      "         Изменить структура категорий, что увеличит конверсию, т.к. пользователи быстрее найдут нужный товар  1.0\n",
      "                            Изменить цвет фона главной страницы, чтобы увеличить вовлеченность пользователей  1.0\n",
      "                    Добавить страницу отзывов клиентов о магазине, что позволит увеличить количество заказов  1.0\n"
     ]
    }
   ],
   "source": [
    "hypothesis['ICE'] = round((hypothesis['Impact'] * hypothesis['Confidence']) / hypothesis['Efforts'])\n",
    "print(hypothesis[['Hypothesis', 'ICE']].sort_values('ICE', ascending=False).to_string(index=False))"
   ]
  },
  {
   "cell_type": "markdown",
   "metadata": {},
   "source": [
    "При расчете приоритизации гипотез методом ICE на первы три места вышли гипотизы:\n",
    "1. Запустить акцию, дающую скидку на товар в день рождения - 16 баллов\n",
    "2. Добавить два новых канала привлечения трафика, что позволит привлекать на 30% больше пользователей - 13 баллов\n",
    "3. Добавить форму подписки на все основные страницы, чтобы собрать базу клиентов для email-рассылок - 11 баллов\n"
   ]
  },
  {
   "cell_type": "markdown",
   "metadata": {},
   "source": [
    "<b>1.3. Применение фреймворка RICE для приоритизации гипотез<b/>"
   ]
  },
  {
   "cell_type": "code",
   "execution_count": 5,
   "metadata": {},
   "outputs": [
    {
     "name": "stdout",
     "output_type": "stream",
     "text": [
      "                                                                                                  Hypothesis  RICE\n",
      "            Добавить форму подписки на все основные страницы, чтобы собрать базу клиентов для email-рассылок 112.0\n",
      "Добавить блоки рекомендаций товаров на сайт интернет магазина, чтобы повысить конверсию и средний чек заказа  56.0\n",
      "          Добавить два новых канала привлечения трафика, что позволит привлекать на 30% больше пользователей  40.0\n",
      "        Показать на главной странице баннеры с актуальными акциями и распродажами, чтобы увеличить конверсию  40.0\n",
      "                                                     Запустить акцию, дающую скидку на товар в день рождения  16.0\n",
      "         Изменить структура категорий, что увеличит конверсию, т.к. пользователи быстрее найдут нужный товар   9.0\n",
      "                                   Запустить собственную службу доставки, что сократит срок доставки заказов   4.0\n",
      "                    Добавить страницу отзывов клиентов о магазине, что позволит увеличить количество заказов   4.0\n",
      "                            Изменить цвет фона главной страницы, чтобы увеличить вовлеченность пользователей   3.0\n"
     ]
    }
   ],
   "source": [
    "hypothesis['RICE'] = round((hypothesis['Reach'] * hypothesis['Impact'] * hypothesis['Confidence']) / hypothesis['Efforts'])\n",
    "print(hypothesis[['Hypothesis', 'RICE']].sort_values('RICE', ascending=False).to_string(index=False))"
   ]
  },
  {
   "cell_type": "markdown",
   "metadata": {},
   "source": [
    "При расчете приоритизации гипотез методом RICE на первы три места вышли гипотизы:\n",
    "\n",
    "1. Добавить форму подписки на все основные страницы, чтобы собрать базу клиентов для email-рассылок - 112 баллов\n",
    "2. Добавить блоки рекомендаций товаров на сайт интернет магазина, чтобы повысить конверсию и средний чек заказа - 56 баллов\n",
    "3. Добавить два новых канала привлечения трафика, что позволит привлекать на 30% больше пользователей - 40 баллов"
   ]
  },
  {
   "cell_type": "markdown",
   "metadata": {},
   "source": [
    "<b>1.4. Сравнение результатов, вывод. </b>"
   ]
  },
  {
   "cell_type": "markdown",
   "metadata": {},
   "source": [
    "Разные методы приоритизации гипотез дали разные результаты. Фреймворк RICE включает показатель Reach — охват аудитории, на которую повлияет изменение. В контексте нашего кейса, где цель — увеличение выручки интернет-магазина, охват является критически важным фактором, так как напрямую влияет на масштаб потенциального эффекта.\n",
    "\n",
    "Поэтому считаю, что именно метод RICE позволяет сделать более обоснованный выбор гипотез для реализации."
   ]
  },
  {
   "cell_type": "markdown",
   "metadata": {},
   "source": [
    "<div class=\"alert alert-success\">\n",
    "  \n",
    "  <b>Комментарий ревьюера</b>\n",
    "    \n",
    "  ✔️ Хорошая работа, корректно применены фреймворки и проанализированы полученные результаты. \n",
    "        \n",
    "    \n",
    "Результаты можно было бы объединить в единой таблице для наглядности. Также их можно было бы проранжировать и выделить цветом: https://pandas.pydata.org/pandas-docs/stable/user_guide/style.html\n",
    "\n",
    "А в качестве визуализации изменения приоритетов можно использовать: <a href=\"https://datayoga.ru/tpost/zh3s62fori-sloupgraf\">slope graph</a>, <a href=\"https://cduvallet.github.io/posts/2018/03/slopegraphs-in-python\">slope graph 2</a>, <a href=\"https://chart-studio.plotly.com/~pcchang/224/slopegraph-spending-and-academic-performance-by-states-doc/#/\">реализация на plotly</a>\n",
    "   \n",
    "</div>"
   ]
  },
  {
   "cell_type": "markdown",
   "metadata": {},
   "source": [
    "<b> Часть 2. Анализ A/B-теста.</b>\n",
    "\n",
    "<b> 2.1. Загрузим данные и подготовим к анализу</b>\n",
    "\n",
    "Описание данных:\n",
    "\n",
    "Файл /datasets/orders.csv\n",
    "\n",
    "    • transactionId — идентификатор заказа;\n",
    "    • visitorId — идентификатор пользователя, совершившего заказ;\n",
    "    • date — дата, когда был совершён заказ;\n",
    "    • revenue — выручка заказа;\n",
    "    • group — группа A/B-теста, в которую попал заказ.\n",
    "    \n",
    "Файл /datasets/visitors.csv\n",
    "\n",
    "    • date — дата;\n",
    "    • group — группа A/B-теста;\n",
    "    • visitors — количество пользователей в указанную дату в указанной группе A/B-теста\n"
   ]
  },
  {
   "cell_type": "code",
   "execution_count": 6,
   "metadata": {},
   "outputs": [],
   "source": [
    "# загрузим данные в переменные\n",
    "\n",
    "orders = pd.read_csv('/datasets/orders.csv')\n",
    "visitors = pd.read_csv('/datasets/visitors.csv') "
   ]
  },
  {
   "cell_type": "code",
   "execution_count": 7,
   "metadata": {},
   "outputs": [
    {
     "data": {
      "text/plain": [
       "'Заказы'"
      ]
     },
     "metadata": {},
     "output_type": "display_data"
    },
    {
     "data": {
      "text/html": [
       "<div>\n",
       "<style scoped>\n",
       "    .dataframe tbody tr th:only-of-type {\n",
       "        vertical-align: middle;\n",
       "    }\n",
       "\n",
       "    .dataframe tbody tr th {\n",
       "        vertical-align: top;\n",
       "    }\n",
       "\n",
       "    .dataframe thead th {\n",
       "        text-align: right;\n",
       "    }\n",
       "</style>\n",
       "<table border=\"1\" class=\"dataframe\">\n",
       "  <thead>\n",
       "    <tr style=\"text-align: right;\">\n",
       "      <th></th>\n",
       "      <th>transactionId</th>\n",
       "      <th>visitorId</th>\n",
       "      <th>date</th>\n",
       "      <th>revenue</th>\n",
       "      <th>group</th>\n",
       "    </tr>\n",
       "  </thead>\n",
       "  <tbody>\n",
       "    <tr>\n",
       "      <th>0</th>\n",
       "      <td>3667963787</td>\n",
       "      <td>3312258926</td>\n",
       "      <td>2019-08-15</td>\n",
       "      <td>1650</td>\n",
       "      <td>B</td>\n",
       "    </tr>\n",
       "    <tr>\n",
       "      <th>1</th>\n",
       "      <td>2804400009</td>\n",
       "      <td>3642806036</td>\n",
       "      <td>2019-08-15</td>\n",
       "      <td>730</td>\n",
       "      <td>B</td>\n",
       "    </tr>\n",
       "    <tr>\n",
       "      <th>2</th>\n",
       "      <td>2961555356</td>\n",
       "      <td>4069496402</td>\n",
       "      <td>2019-08-15</td>\n",
       "      <td>400</td>\n",
       "      <td>A</td>\n",
       "    </tr>\n",
       "    <tr>\n",
       "      <th>3</th>\n",
       "      <td>3797467345</td>\n",
       "      <td>1196621759</td>\n",
       "      <td>2019-08-15</td>\n",
       "      <td>9759</td>\n",
       "      <td>B</td>\n",
       "    </tr>\n",
       "    <tr>\n",
       "      <th>4</th>\n",
       "      <td>2282983706</td>\n",
       "      <td>2322279887</td>\n",
       "      <td>2019-08-15</td>\n",
       "      <td>2308</td>\n",
       "      <td>B</td>\n",
       "    </tr>\n",
       "  </tbody>\n",
       "</table>\n",
       "</div>"
      ],
      "text/plain": [
       "   transactionId   visitorId        date  revenue group\n",
       "0     3667963787  3312258926  2019-08-15     1650     B\n",
       "1     2804400009  3642806036  2019-08-15      730     B\n",
       "2     2961555356  4069496402  2019-08-15      400     A\n",
       "3     3797467345  1196621759  2019-08-15     9759     B\n",
       "4     2282983706  2322279887  2019-08-15     2308     B"
      ]
     },
     "metadata": {},
     "output_type": "display_data"
    },
    {
     "name": "stdout",
     "output_type": "stream",
     "text": [
      "<class 'pandas.core.frame.DataFrame'>\n",
      "RangeIndex: 1197 entries, 0 to 1196\n",
      "Data columns (total 5 columns):\n",
      " #   Column         Non-Null Count  Dtype \n",
      "---  ------         --------------  ----- \n",
      " 0   transactionId  1197 non-null   int64 \n",
      " 1   visitorId      1197 non-null   int64 \n",
      " 2   date           1197 non-null   object\n",
      " 3   revenue        1197 non-null   int64 \n",
      " 4   group          1197 non-null   object\n",
      "dtypes: int64(3), object(2)\n",
      "memory usage: 46.9+ KB\n"
     ]
    },
    {
     "data": {
      "text/plain": [
       "None"
      ]
     },
     "metadata": {},
     "output_type": "display_data"
    },
    {
     "data": {
      "text/plain": [
       "'Посетители'"
      ]
     },
     "metadata": {},
     "output_type": "display_data"
    },
    {
     "data": {
      "text/html": [
       "<div>\n",
       "<style scoped>\n",
       "    .dataframe tbody tr th:only-of-type {\n",
       "        vertical-align: middle;\n",
       "    }\n",
       "\n",
       "    .dataframe tbody tr th {\n",
       "        vertical-align: top;\n",
       "    }\n",
       "\n",
       "    .dataframe thead th {\n",
       "        text-align: right;\n",
       "    }\n",
       "</style>\n",
       "<table border=\"1\" class=\"dataframe\">\n",
       "  <thead>\n",
       "    <tr style=\"text-align: right;\">\n",
       "      <th></th>\n",
       "      <th>date</th>\n",
       "      <th>group</th>\n",
       "      <th>visitors</th>\n",
       "    </tr>\n",
       "  </thead>\n",
       "  <tbody>\n",
       "    <tr>\n",
       "      <th>0</th>\n",
       "      <td>2019-08-01</td>\n",
       "      <td>A</td>\n",
       "      <td>719</td>\n",
       "    </tr>\n",
       "    <tr>\n",
       "      <th>1</th>\n",
       "      <td>2019-08-02</td>\n",
       "      <td>A</td>\n",
       "      <td>619</td>\n",
       "    </tr>\n",
       "    <tr>\n",
       "      <th>2</th>\n",
       "      <td>2019-08-03</td>\n",
       "      <td>A</td>\n",
       "      <td>507</td>\n",
       "    </tr>\n",
       "    <tr>\n",
       "      <th>3</th>\n",
       "      <td>2019-08-04</td>\n",
       "      <td>A</td>\n",
       "      <td>717</td>\n",
       "    </tr>\n",
       "    <tr>\n",
       "      <th>4</th>\n",
       "      <td>2019-08-05</td>\n",
       "      <td>A</td>\n",
       "      <td>756</td>\n",
       "    </tr>\n",
       "  </tbody>\n",
       "</table>\n",
       "</div>"
      ],
      "text/plain": [
       "         date group  visitors\n",
       "0  2019-08-01     A       719\n",
       "1  2019-08-02     A       619\n",
       "2  2019-08-03     A       507\n",
       "3  2019-08-04     A       717\n",
       "4  2019-08-05     A       756"
      ]
     },
     "metadata": {},
     "output_type": "display_data"
    },
    {
     "name": "stdout",
     "output_type": "stream",
     "text": [
      "<class 'pandas.core.frame.DataFrame'>\n",
      "RangeIndex: 62 entries, 0 to 61\n",
      "Data columns (total 3 columns):\n",
      " #   Column    Non-Null Count  Dtype \n",
      "---  ------    --------------  ----- \n",
      " 0   date      62 non-null     object\n",
      " 1   group     62 non-null     object\n",
      " 2   visitors  62 non-null     int64 \n",
      "dtypes: int64(1), object(2)\n",
      "memory usage: 1.6+ KB\n"
     ]
    },
    {
     "data": {
      "text/plain": [
       "None"
      ]
     },
     "metadata": {},
     "output_type": "display_data"
    }
   ],
   "source": [
    "# рассмотрим датасеты\n",
    "\n",
    "display('Заказы', orders.head())\n",
    "display(orders.info())\n",
    "\n",
    "display('Посетители', visitors.head())\n",
    "display(visitors.info())"
   ]
  },
  {
   "cell_type": "markdown",
   "metadata": {},
   "source": [
    "<b>2.2. Проверим данные на дубликаты и на соответствие их типу </b>"
   ]
  },
  {
   "cell_type": "code",
   "execution_count": 8,
   "metadata": {},
   "outputs": [],
   "source": [
    "# сменим тип данных у столбцов с датой\n",
    "\n",
    "orders['date'] = orders['date'].map(\n",
    "    lambda x: dt.datetime.strptime(x, '%Y-%m-%d'))\n",
    "\n",
    "visitors['date'] = visitors['date'].map(\n",
    "    lambda x: dt.datetime.strptime(x, '%Y-%m-%d'))\n"
   ]
  },
  {
   "cell_type": "code",
   "execution_count": 9,
   "metadata": {},
   "outputs": [
    {
     "data": {
      "text/html": [
       "<div>\n",
       "<style scoped>\n",
       "    .dataframe tbody tr th:only-of-type {\n",
       "        vertical-align: middle;\n",
       "    }\n",
       "\n",
       "    .dataframe tbody tr th {\n",
       "        vertical-align: top;\n",
       "    }\n",
       "\n",
       "    .dataframe thead th {\n",
       "        text-align: right;\n",
       "    }\n",
       "</style>\n",
       "<table border=\"1\" class=\"dataframe\">\n",
       "  <thead>\n",
       "    <tr style=\"text-align: right;\">\n",
       "      <th></th>\n",
       "      <th>transactionId</th>\n",
       "      <th>visitorId</th>\n",
       "      <th>date</th>\n",
       "      <th>revenue</th>\n",
       "      <th>group</th>\n",
       "    </tr>\n",
       "  </thead>\n",
       "  <tbody>\n",
       "  </tbody>\n",
       "</table>\n",
       "</div>"
      ],
      "text/plain": [
       "Empty DataFrame\n",
       "Columns: [transactionId, visitorId, date, revenue, group]\n",
       "Index: []"
      ]
     },
     "metadata": {},
     "output_type": "display_data"
    },
    {
     "data": {
      "text/html": [
       "<div>\n",
       "<style scoped>\n",
       "    .dataframe tbody tr th:only-of-type {\n",
       "        vertical-align: middle;\n",
       "    }\n",
       "\n",
       "    .dataframe tbody tr th {\n",
       "        vertical-align: top;\n",
       "    }\n",
       "\n",
       "    .dataframe thead th {\n",
       "        text-align: right;\n",
       "    }\n",
       "</style>\n",
       "<table border=\"1\" class=\"dataframe\">\n",
       "  <thead>\n",
       "    <tr style=\"text-align: right;\">\n",
       "      <th></th>\n",
       "      <th>date</th>\n",
       "      <th>group</th>\n",
       "      <th>visitors</th>\n",
       "    </tr>\n",
       "  </thead>\n",
       "  <tbody>\n",
       "  </tbody>\n",
       "</table>\n",
       "</div>"
      ],
      "text/plain": [
       "Empty DataFrame\n",
       "Columns: [date, group, visitors]\n",
       "Index: []"
      ]
     },
     "metadata": {},
     "output_type": "display_data"
    }
   ],
   "source": [
    "# проверим данные на дубликаты\n",
    "\n",
    "display(orders.loc[orders.duplicated() == True])\n",
    "display(visitors.loc[visitors.duplicated() == True])"
   ]
  },
  {
   "cell_type": "markdown",
   "metadata": {},
   "source": [
    "В ходе этого шага мы сменили тип данных в столбцах date и проверили на дубликаты. Дубликатов не обнаружено"
   ]
  },
  {
   "cell_type": "markdown",
   "metadata": {},
   "source": [
    "<div class=\"alert alert-danger\">\n",
    "    \n",
    "  <b>Комментарий ревьюера</b>\n",
    "\n",
    "  ❌ Еще остается не выполненным на этапе предобработки, но тем не менее важным - проверить корректность разбиения пользователей на группы - может быть есть пользователи, попавшие в обе группы? Если таковые пользователи есть, нужно их выявить и выработать стратегию работы с такими данными. Пересечение групп сильно влияет на результаты теста, если процент достаточно большой. Если есть возможность их можно удалить и посмотреть, какие результаты получаются без них, в любом случае к результатам теста придется относится осторожно.\n",
    "</div>"
   ]
  },
  {
   "cell_type": "markdown",
   "metadata": {},
   "source": [
    "    \n",
    "<div class=\"alert alert-block alert-info\">\n",
    "  \n",
    "  <b>Комментарий cтудента</b>\n",
    "    \n",
    "  Да, не учла этот момент. Ниже добавляю код\n",
    "</div>\n",
    "<div class=\"alert alert-success\">\n",
    "  \n",
    "  <b>Комментарий ревьюера v.2</b>\n",
    "    \n",
    "  ✔️ Хорошо, результаты теста они больше не искажают. \n",
    "</div>"
   ]
  },
  {
   "cell_type": "code",
   "execution_count": 10,
   "metadata": {},
   "outputs": [
    {
     "data": {
      "text/plain": [
       "array([   8300375,  199603092,  232979603,  237748145,  276558944,\n",
       "        351125977,  393266494,  457167155,  471551937,  477780734,\n",
       "        818047933,  963407295, 1230306981, 1294878855, 1316129916,\n",
       "       1333886533, 1404934699, 1602967004, 1614305549, 1648269707,\n",
       "       1668030113, 1738359350, 1801183820, 1959144690, 2038680547,\n",
       "       2044997962, 2378935119, 2458001652, 2579882178, 2587333274,\n",
       "       2600415354, 2654030115, 2686716486, 2712142231, 2716752286,\n",
       "       2780786433, 2927087541, 2949041841, 2954449915, 3062433592,\n",
       "       3202540741, 3234906277, 3656415546, 3717692402, 3766097110,\n",
       "       3803269165, 3891541246, 3941795274, 3951559397, 3957174400,\n",
       "       3963646447, 3972127743, 3984495233, 4069496402, 4120364173,\n",
       "       4186807279, 4256040402, 4266935830])"
      ]
     },
     "execution_count": 10,
     "metadata": {},
     "output_type": "execute_result"
    }
   ],
   "source": [
    "#выделяем всех уникальных пользователей из группы A и В. И присвоим переменной список из этих пользователей\n",
    "\n",
    "users_A = orders.query('group == \"A\"')['visitorId'].unique()\n",
    "\n",
    "users_B = orders.query('group == \"B\"')['visitorId'].unique()\n",
    "\n",
    "duplicate_users = np.intersect1d(users_A, users_B)\n",
    "duplicate_users\n"
   ]
  },
  {
   "cell_type": "code",
   "execution_count": 11,
   "metadata": {},
   "outputs": [
    {
     "name": "stdout",
     "output_type": "stream",
     "text": [
      "<class 'pandas.core.frame.DataFrame'>\n",
      "RangeIndex: 1197 entries, 0 to 1196\n",
      "Data columns (total 5 columns):\n",
      " #   Column         Non-Null Count  Dtype         \n",
      "---  ------         --------------  -----         \n",
      " 0   transactionId  1197 non-null   int64         \n",
      " 1   visitorId      1197 non-null   int64         \n",
      " 2   date           1197 non-null   datetime64[ns]\n",
      " 3   revenue        1197 non-null   int64         \n",
      " 4   group          1197 non-null   object        \n",
      "dtypes: datetime64[ns](1), int64(3), object(1)\n",
      "memory usage: 46.9+ KB\n"
     ]
    },
    {
     "data": {
      "text/plain": [
       "None"
      ]
     },
     "metadata": {},
     "output_type": "display_data"
    },
    {
     "name": "stdout",
     "output_type": "stream",
     "text": [
      "<class 'pandas.core.frame.DataFrame'>\n",
      "Int64Index: 1016 entries, 0 to 1196\n",
      "Data columns (total 5 columns):\n",
      " #   Column         Non-Null Count  Dtype         \n",
      "---  ------         --------------  -----         \n",
      " 0   transactionId  1016 non-null   int64         \n",
      " 1   visitorId      1016 non-null   int64         \n",
      " 2   date           1016 non-null   datetime64[ns]\n",
      " 3   revenue        1016 non-null   int64         \n",
      " 4   group          1016 non-null   object        \n",
      "dtypes: datetime64[ns](1), int64(3), object(1)\n",
      "memory usage: 47.6+ KB\n"
     ]
    },
    {
     "data": {
      "text/plain": [
       "None"
      ]
     },
     "metadata": {},
     "output_type": "display_data"
    }
   ],
   "source": [
    "#удаляем эти пользователей из датафрейма\n",
    "display(orders.info())\n",
    "orders = orders[~orders['visitorId'].isin(duplicate_users)]\n",
    "display(orders.info())"
   ]
  },
  {
   "cell_type": "markdown",
   "metadata": {},
   "source": [
    "<b>2.3. Создадим датафрейм с кумулятивными значениями и построим графики этих значений </b>"
   ]
  },
  {
   "cell_type": "code",
   "execution_count": 12,
   "metadata": {},
   "outputs": [
    {
     "name": "stdout",
     "output_type": "stream",
     "text": [
      "        date group  orders  buyers  revenue  visitors\n",
      "0 2019-08-01     A      23      19   142779       719\n",
      "1 2019-08-01     B      17      17    59758       713\n",
      "2 2019-08-02     A      42      36   234381      1338\n",
      "3 2019-08-02     B      40      39   221801      1294\n",
      "4 2019-08-03     A      66      60   346854      1845\n"
     ]
    }
   ],
   "source": [
    "#создадим датафрейм с кумулятивными значениями\n",
    "\n",
    "datesGroups = orders[['date','group']].drop_duplicates()\n",
    "\n",
    "ordersAggregated = datesGroups.apply(\n",
    "    lambda x: orders[\n",
    "        np.logical_and(\n",
    "            orders['date'] <= x['date'], orders['group'] == x['group']\n",
    "        )\n",
    "    ].agg(\n",
    "        {\n",
    "            'date': 'max',\n",
    "            'group': 'max',\n",
    "            'transactionId': 'nunique',\n",
    "            'visitorId': 'nunique',\n",
    "            'revenue': 'sum',\n",
    "        }\n",
    "    ),\n",
    "    axis=1,\n",
    ").sort_values(by=['date', 'group'])\n",
    "\n",
    "visitorsAggregated = datesGroups.apply(\n",
    "    lambda x: visitors[\n",
    "        np.logical_and(\n",
    "            visitors['date'] <= x['date'], visitors['group'] == x['group']\n",
    "        )\n",
    "    ].agg({'date': 'max', 'group': 'max', 'visitors': 'sum'}),\n",
    "    axis=1,\n",
    ").sort_values(by=['date', 'group'])\n",
    "\n",
    "cumulativeData = ordersAggregated.merge(\n",
    "    visitorsAggregated, left_on=['date', 'group'], right_on=['date', 'group']\n",
    ")\n",
    "cumulativeData.columns = [\n",
    "    'date',\n",
    "    'group',\n",
    "    'orders',\n",
    "    'buyers',\n",
    "    'revenue',\n",
    "    'visitors',\n",
    "]\n",
    "print(cumulativeData.head(5))"
   ]
  },
  {
   "cell_type": "markdown",
   "metadata": {},
   "source": [
    "В ходе работы мы создали объединенный датафрейм с кумулятивными данными: количесто заказов, количество покупателей, выручка и кличество поситителей агреггированных по дате и номеру тест-группы"
   ]
  },
  {
   "cell_type": "code",
   "execution_count": 13,
   "metadata": {},
   "outputs": [
    {
     "data": {
      "image/png": "[encoded data removed]",
      "text/plain": [
       "<Figure size 432x288 with 1 Axes>"
      ]
     },
     "metadata": {
      "needs_background": "light"
     },
     "output_type": "display_data"
    }
   ],
   "source": [
    "# построим график кумулятивной выручки по группам\n",
    "\n",
    "cumulativeRevenueA = cumulativeData[cumulativeData['group']=='A'][['date','revenue', 'orders']]\n",
    "cumulativeRevenueB = cumulativeData[cumulativeData['group']=='B'][['date','revenue', 'orders']]\n",
    "\n",
    "ax = plt.gca()\n",
    "ax.ticklabel_format(style='plain', axis='y', useOffset=False)\n",
    "plt.plot(cumulativeRevenueA['date'], cumulativeRevenueA['revenue'], label='A')\n",
    "plt.plot(cumulativeRevenueB['date'], cumulativeRevenueB['revenue'], label='B')\n",
    "plt.xlabel('Дата')\n",
    "plt.xticks(rotation=45, ha='right')\n",
    "plt.title('Кумулятивная выручка')\n",
    "plt.legend()\n",
    "plt.show()"
   ]
  },
  {
   "cell_type": "markdown",
   "metadata": {},
   "source": [
    "Первые пять дней комулятивные выручки в обеих группах растут одинаково. Далее, группа В начинает показывать лучший результат. Но  примерно 17-18 числа мы видим резкий скачок выручки группы В, что дает нам основание считать, что это выброс"
   ]
  },
  {
   "cell_type": "markdown",
   "metadata": {},
   "source": [
    "<div class=\"alert alert-success\">\n",
    "  \n",
    "  <b>Комментарий ревьюера</b>\n",
    "    \n",
    "  ✔️ График построен верно и можем зафиксировать аномалию в группе В.\n",
    "</div>"
   ]
  },
  {
   "cell_type": "code",
   "execution_count": 14,
   "metadata": {},
   "outputs": [
    {
     "data": {
      "image/png": "[encoded data removed]",
      "text/plain": [
       "<Figure size 432x288 with 1 Axes>"
      ]
     },
     "metadata": {
      "needs_background": "light"
     },
     "output_type": "display_data"
    }
   ],
   "source": [
    "# построим график кумулятивного среднего чека по группам\n",
    "\n",
    "plt.plot(cumulativeRevenueA['date'], cumulativeRevenueA['revenue']/cumulativeRevenueA['orders'], label='A')\n",
    "plt.plot(cumulativeRevenueB['date'], cumulativeRevenueB['revenue']/cumulativeRevenueB['orders'], label='B')\n",
    "\n",
    "plt.xlabel('Дата')\n",
    "plt.xticks(rotation=45, ha='right')\n",
    "plt.title('Кумулятивный средний чек')\n",
    "plt.legend()\n",
    "plt.show()"
   ]
  },
  {
   "cell_type": "markdown",
   "metadata": {},
   "source": [
    "Похожая ситуации с показателями кумулятивного среднего чека. Группа В показывает лучший результат, но 17-18 показывает всплеск значений. После это всплеска показатель группы В медленно снижается, таким образом выравниваясь к своему среднему значению."
   ]
  },
  {
   "cell_type": "markdown",
   "metadata": {},
   "source": [
    "<div class=\"alert alert-success\">\n",
    "  \n",
    "  <b>Комментарий ревьюера</b>\n",
    "    \n",
    "  ✔️ Тут так-же группа В выделяется.\n",
    "</div>"
   ]
  },
  {
   "cell_type": "code",
   "execution_count": 15,
   "metadata": {},
   "outputs": [
    {
     "data": {
      "image/png": "[encoded data removed]",
      "text/plain": [
       "<Figure size 432x288 with 1 Axes>"
      ]
     },
     "metadata": {
      "needs_background": "light"
     },
     "output_type": "display_data"
    }
   ],
   "source": [
    "# построим график относительного изменения кумулятивного среднего чека группы B к группе A\n",
    "\n",
    "mergedCumulativeRevenue = cumulativeRevenueA.merge(cumulativeRevenueB, left_on='date', right_on='date', how='left', suffixes=['A', 'B'])\n",
    "\n",
    "plt.plot(\n",
    "    mergedCumulativeRevenue['date'], \n",
    "    (mergedCumulativeRevenue['revenueB']/mergedCumulativeRevenue['ordersB']) / \n",
    "    (mergedCumulativeRevenue['revenueA']/mergedCumulativeRevenue['ordersA'])-1)\n",
    "\n",
    "plt.axhline(y=0, color='black', linestyle='--')\n",
    "plt.xlabel('Дата')\n",
    "plt.xticks(rotation=45, ha='right')\n",
    "plt.title('Изменение кумулятивного среднего чека группы B к группе A')\n",
    "plt.show()"
   ]
  },
  {
   "cell_type": "markdown",
   "metadata": {},
   "source": [
    "Резкие скачки в графике могут говорить о выбросах в значениях"
   ]
  },
  {
   "cell_type": "markdown",
   "metadata": {},
   "source": [
    "<div class=\"alert alert-success\">\n",
    "  \n",
    "  <b>Комментарий ревьюера</b>\n",
    "    \n",
    "  ✔️ Верно, похоже на крупные заказы.\n",
    "</div>"
   ]
  },
  {
   "cell_type": "code",
   "execution_count": 16,
   "metadata": {},
   "outputs": [
    {
     "data": {
      "image/png": "[encoded data removed]",
      "text/plain": [
       "<Figure size 432x288 with 1 Axes>"
      ]
     },
     "metadata": {
      "needs_background": "light"
     },
     "output_type": "display_data"
    }
   ],
   "source": [
    "# построим график кумулятивного среднего количества заказов на посетителя по группам \n",
    "\n",
    "cumulativeData['conversion'] = cumulativeData['orders']/cumulativeData['visitors']\n",
    "\n",
    "cumulativeDataA = cumulativeData[cumulativeData['group']=='A']\n",
    "cumulativeDataB = cumulativeData[cumulativeData['group']=='B']\n",
    "\n",
    "plt.plot(cumulativeDataA['date'], cumulativeDataA['conversion'], label='A')\n",
    "plt.plot(cumulativeDataB['date'], cumulativeDataB['conversion'], label='B')\n",
    "plt.xlabel('Дата')\n",
    "plt.xticks(rotation=45, ha='right')\n",
    "plt.title('Кумулятивное среднее количество заказов на посетителя')\n",
    "plt.legend()\n",
    "plt.show()\n"
   ]
  },
  {
   "cell_type": "markdown",
   "metadata": {},
   "source": [
    "В начале измерений показатели скачут, это естественно, т.к. первые дни каждое значение имеет большое влияние на кумулятивное среднее. Далее группа В показывает лучший результат, но, судя по скачкам, без выбросов не обошлось."
   ]
  },
  {
   "cell_type": "markdown",
   "metadata": {},
   "source": [
    "<div class=\"alert alert-success\">\n",
    "  \n",
    "  <b>Комментарий ревьюера</b>\n",
    "    \n",
    "  ✔️ Группа В в лидерах.\n",
    "</div>"
   ]
  },
  {
   "cell_type": "code",
   "execution_count": 17,
   "metadata": {
    "scrolled": true
   },
   "outputs": [
    {
     "data": {
      "image/png": "[encoded data removed]",
      "text/plain": [
       "<Figure size 432x288 with 1 Axes>"
      ]
     },
     "metadata": {
      "needs_background": "light"
     },
     "output_type": "display_data"
    }
   ],
   "source": [
    "# построим график относительного изменения кумулятивного среднего количества заказов на посетителя группы B к группе A\n",
    "\n",
    "mergedCumulativeConversions =(\n",
    "    cumulativeDataA[['date','conversion']]\n",
    "    .merge(cumulativeDataB[['date','conversion']], left_on='date', right_on='date', how='left', suffixes=['A', 'B'])\n",
    ")\n",
    "plt.plot(\n",
    "    mergedCumulativeConversions['date'], \n",
    "    mergedCumulativeConversions['conversionB']/mergedCumulativeConversions['conversionA']-1\n",
    ")\n",
    "\n",
    "plt.axhline(y=0, color='black', linestyle='--')\n",
    "plt.xlabel('Дата')\n",
    "plt.xticks(rotation=45, ha='right')\n",
    "plt.title('Изменение кумулятивного среднего количества заказов на посетителя группы B к группе A')\n",
    "plt.show()"
   ]
  },
  {
   "cell_type": "markdown",
   "metadata": {},
   "source": [
    "Отношение кумулятивного среднего количества заказов тоже показывает всплески и до конца не установилось. Нужно поверить данные на аномалии."
   ]
  },
  {
   "cell_type": "markdown",
   "metadata": {},
   "source": [
    "\n",
    "<div class=\"alert alert-warning\">\n",
    "    \n",
    "  <b>Комментарий ревьюера</b>\n",
    "    \n",
    "  ⚠️ Группа В выше, а еще в последней трети эксперимента наблюдается стабилизация результатов.\n",
    "</div>\n"
   ]
  },
  {
   "cell_type": "markdown",
   "metadata": {},
   "source": [
    "<b>2.4. Построить точечные графики для определения выбросов</b>"
   ]
  },
  {
   "cell_type": "code",
   "execution_count": 18,
   "metadata": {},
   "outputs": [
    {
     "data": {
      "image/png": "[encoded data removed]",
      "text/plain": [
       "<Figure size 432x288 with 1 Axes>"
      ]
     },
     "metadata": {
      "needs_background": "light"
     },
     "output_type": "display_data"
    }
   ],
   "source": [
    "# построим точечный график количества заказов по пользователям\n",
    "\n",
    "ordersByUsers = (\n",
    "    orders.groupby('visitorId', as_index=False)\n",
    "    .agg({'transactionId': 'nunique'})\n",
    ")\n",
    "ordersByUsers.columns = ['userId', 'orders']\n",
    "\n",
    "x_values = pd.Series(range(0,len(ordersByUsers)))\n",
    "plt.scatter(x_values, ordersByUsers['orders'])\n",
    "plt.ylabel('Количество заказов')\n",
    "plt.title('График количества заказов по пользователям')\n",
    "plt.show()"
   ]
  },
  {
   "cell_type": "markdown",
   "metadata": {},
   "source": [
    "Так и есть, на графике количества заказов на пользователя мы видим аномальные значения. Посмотрим процентили для того, чтобы определиться где проходит граница аномалий."
   ]
  },
  {
   "cell_type": "code",
   "execution_count": 19,
   "metadata": {},
   "outputs": [
    {
     "name": "stdout",
     "output_type": "stream",
     "text": [
      "[1. 1. 2.]\n"
     ]
    }
   ],
   "source": [
    "# посчитаем 95-й и 99-й перцентили количества заказов на пользователя. Выберем границу для определения аномальных пользователей\n",
    "\n",
    "print(np.percentile(ordersByUsers['orders'], [90, 95, 99]))"
   ]
  },
  {
   "cell_type": "markdown",
   "metadata": {},
   "source": [
    "Выше пользователей с выше 3-х заказов можно считать выбросами."
   ]
  },
  {
   "cell_type": "markdown",
   "metadata": {},
   "source": [
    "<div class=\"alert alert-warning\">\n",
    "    \n",
    "  <b>Комментарий ревьюера</b>\n",
    "    \n",
    "  ⚠️ Перцентили выбраны верно. Но скорее всего, после обнаружения пользователей, которые вошли в обе группы (что не совсем верно) границы выбросов изменятся. Еще раз перепроверь свое решение после дополнения части с предобработкой.\n",
    "</div>"
   ]
  },
  {
   "cell_type": "markdown",
   "metadata": {},
   "source": [
    "    \n",
    "<div class=\"alert alert-block alert-info\">\n",
    "  \n",
    "  <b>Комментарий cтудента</b>\n",
    "    \n",
    "  Да, выбросы будут выше 2-ух заказов\n",
    "</div>\n",
    "<div class=\"alert alert-success\">\n",
    "  \n",
    "  <b>Комментарий ревьюера v.2</b>\n",
    "    \n",
    "  ✔️ Количество заказов сократилось заметно, а вот чек не сильно уменьшился.\n",
    "</div>"
   ]
  },
  {
   "cell_type": "code",
   "execution_count": 20,
   "metadata": {},
   "outputs": [
    {
     "data": {
      "image/png": "[encoded data removed]",
      "text/plain": [
       "<Figure size 432x288 with 1 Axes>"
      ]
     },
     "metadata": {
      "needs_background": "light"
     },
     "output_type": "display_data"
    }
   ],
   "source": [
    "# построим точечный график стоимостей заказов\n",
    "\n",
    "x_values = pd.Series(range(0,len(orders['revenue'])))\n",
    "ax = plt.gca()\n",
    "ax.ticklabel_format(style='plain', axis='y', useOffset=False)\n",
    "plt.scatter(x_values, orders['revenue'])\n",
    "plt.ylabel('Стоимость заказа')\n",
    "plt.title('График стоимостей заказов')\n",
    "plt.show()"
   ]
  },
  {
   "cell_type": "markdown",
   "metadata": {},
   "source": [
    "На графике стоимостей заказов мы также видим запредельные значения. Посмотрим границы процентилей."
   ]
  },
  {
   "cell_type": "code",
   "execution_count": 21,
   "metadata": {},
   "outputs": [
    {
     "name": "stdout",
     "output_type": "stream",
     "text": [
      "[17990. 26785. 53904.]\n"
     ]
    }
   ],
   "source": [
    "# посчитаем 95-й и 99-й перцентили стоимости заказов. Выберим границу для определения аномальных заказов\n",
    "\n",
    "\n",
    "print(np.percentile(orders['revenue'], [90, 95, 99]))"
   ]
  },
  {
   "cell_type": "markdown",
   "metadata": {},
   "source": [
    "Попробуем отмести пользователей с заказами свыше 35 000 рублей и посмотрим сколько строк уберется."
   ]
  },
  {
   "cell_type": "markdown",
   "metadata": {},
   "source": [
    "<div class=\"alert alert-warning\">\n",
    "    \n",
    "  <b>Комментарий ревьюера</b>\n",
    "    \n",
    "  ⚠️ Здесь тоже границы выбросов должны скорректироваться.\n",
    "</div>"
   ]
  },
  {
   "cell_type": "markdown",
   "metadata": {},
   "source": [
    "<b>2.5. Проверка гипотез по результатам А/В теста\n",
    "</b>"
   ]
  },
  {
   "cell_type": "markdown",
   "metadata": {},
   "source": [
    "<div class=\"alert alert-warning\">\n",
    "    \n",
    "  <b>Комментарий ревьюера</b>\n",
    "    \n",
    "  ⚠️ Ниже код идет без комментариев. Лучше оставлять небольшой комментарий о том, что делаем в ячейке. Так тебе или твоим коллегам в будущем будет проще разобраться с кодом.\n",
    "</div>"
   ]
  },
  {
   "cell_type": "code",
   "execution_count": 22,
   "metadata": {},
   "outputs": [
    {
     "name": "stdout",
     "output_type": "stream",
     "text": [
      "        date  ordersPerDateA  revenuePerDateA  ordersPerDateB  \\\n",
      "0 2019-08-01              23           142779              17   \n",
      "1 2019-08-02              19            91602              23   \n",
      "2 2019-08-03              24           112473              14   \n",
      "3 2019-08-04              11            41176              14   \n",
      "4 2019-08-05              22            86383              21   \n",
      "\n",
      "   revenuePerDateB  ordersCummulativeA  revenueCummulativeA  \\\n",
      "0            59758                  23               142779   \n",
      "1           162043                  42               234381   \n",
      "2            67049                  66               346854   \n",
      "3            96890                  77               388030   \n",
      "4            89908                  99               474413   \n",
      "\n",
      "   ordersCummulativeB  revenueCummulativeB  visitorsPerDateA  \\\n",
      "0                  17                59758               719   \n",
      "1                  40               221801               619   \n",
      "2                  54               288850               507   \n",
      "3                  68               385740               717   \n",
      "4                  89               475648               756   \n",
      "\n",
      "   visitorsPerDateB  visitorsCummulativeA  visitorsCummulativeB  \n",
      "0               713                   719                   713  \n",
      "1               581                  1338                  1294  \n",
      "2               509                  1845                  1803  \n",
      "3               770                  2562                  2573  \n",
      "4               707                  3318                  3280  \n"
     ]
    }
   ],
   "source": [
    "# создадим датафрейм с объединенными данными по посетителям и заказам с разбивкой на группы А и В\n",
    "\n",
    "visitorsADaily = visitors[visitors['group'] == 'A'][['date', 'visitors']]\n",
    "visitorsADaily.columns = ['date', 'visitorsPerDateA']\n",
    "\n",
    "visitorsACummulative = visitorsADaily.apply(\n",
    "    lambda x: visitorsADaily[visitorsADaily['date'] <= x['date']].agg(\n",
    "        {'date': 'max', 'visitorsPerDateA': 'sum'}\n",
    "    ),\n",
    "    axis=1,\n",
    ")\n",
    "visitorsACummulative.columns = ['date', 'visitorsCummulativeA']\n",
    "\n",
    "visitorsBDaily = visitors[visitors['group'] == 'B'][['date', 'visitors']]\n",
    "visitorsBDaily.columns = ['date', 'visitorsPerDateB']\n",
    "\n",
    "visitorsBCummulative = visitorsBDaily.apply(\n",
    "    lambda x: visitorsBDaily[visitorsBDaily['date'] <= x['date']].agg(\n",
    "        {'date': 'max', 'visitorsPerDateB': 'sum'}\n",
    "    ),\n",
    "    axis=1,\n",
    ")\n",
    "visitorsBCummulative.columns = ['date', 'visitorsCummulativeB']\n",
    "\n",
    "ordersADaily = (\n",
    "    orders[orders['group'] == 'A'][['date', 'transactionId', 'visitorId', 'revenue']]\n",
    "    .groupby('date', as_index=False)\n",
    "    .agg({'transactionId': pd.Series.nunique, 'revenue': 'sum'})\n",
    ")\n",
    "ordersADaily.columns = ['date', 'ordersPerDateA', 'revenuePerDateA']\n",
    "\n",
    "ordersACummulative = ordersADaily.apply(\n",
    "    lambda x: ordersADaily[ordersADaily['date'] <= x['date']].agg(\n",
    "        {'date': 'max', 'ordersPerDateA': 'sum', 'revenuePerDateA': 'sum'}\n",
    "    ),\n",
    "    axis=1,\n",
    ").sort_values(by=['date'])\n",
    "ordersACummulative.columns = [\n",
    "    'date',\n",
    "    'ordersCummulativeA',\n",
    "    'revenueCummulativeA',\n",
    "]\n",
    "ordersBDaily = (\n",
    "    orders[orders['group'] == 'B'][['date', 'transactionId', 'visitorId', 'revenue']]\n",
    "    .groupby('date', as_index=False)\n",
    "    .agg({'transactionId': pd.Series.nunique, 'revenue': 'sum'})\n",
    ")\n",
    "ordersBDaily.columns = ['date', 'ordersPerDateB', 'revenuePerDateB']\n",
    "\n",
    "ordersBCummulative = ordersBDaily.apply(\n",
    "    lambda x: ordersBDaily[ordersBDaily['date'] <= x['date']].agg(\n",
    "        {'date': 'max', 'ordersPerDateB': 'sum', 'revenuePerDateB': 'sum'}\n",
    "    ),\n",
    "    axis=1,\n",
    ").sort_values(by=['date'])\n",
    "ordersBCummulative.columns = [\n",
    "    'date',\n",
    "    'ordersCummulativeB',\n",
    "    'revenueCummulativeB',\n",
    "]\n",
    "data = (\n",
    "    ordersADaily.merge(\n",
    "        ordersBDaily, left_on='date', right_on='date', how='left'\n",
    "    )\n",
    "    .merge(ordersACummulative, left_on='date', right_on='date', how='left')\n",
    "    .merge(ordersBCummulative, left_on='date', right_on='date', how='left')\n",
    "    .merge(visitorsADaily, left_on='date', right_on='date', how='left')\n",
    "    .merge(visitorsBDaily, left_on='date', right_on='date', how='left')\n",
    "    .merge(visitorsACummulative, left_on='date', right_on='date', how='left')\n",
    "    .merge(visitorsBCummulative, left_on='date', right_on='date', how='left')\n",
    ")\n",
    "print(data.head(5))"
   ]
  },
  {
   "cell_type": "markdown",
   "metadata": {},
   "source": [
    "<div class=\"alert alert-warning\">\n",
    "    \n",
    "  <b>Комментарий ревьюера</b>\n",
    "    \n",
    "  ⚠️ Старайся не выводить датафрейм через print, так визуально тяжело воспринимать. Используй или просто data.head(5) или вывод через display().\n",
    "    \n",
    "</div>"
   ]
  },
  {
   "cell_type": "code",
   "execution_count": 23,
   "metadata": {},
   "outputs": [
    {
     "name": "stdout",
     "output_type": "stream",
     "text": [
      "P-value: 0.011\n",
      "Относительные различия: 0.160\n"
     ]
    }
   ],
   "source": [
    "# посчитаем статистическую значимость различий в среднем количестве заказов на посетителя между группами по «сырым» данным\n",
    "\n",
    "ordersByUsersA = (\n",
    "    orders[orders['group'] == 'A']\n",
    "    .groupby('visitorId', as_index=False)\n",
    "    .agg({'transactionId': pd.Series.nunique})\n",
    ")\n",
    "ordersByUsersA.columns = ['userId', 'orders']\n",
    "\n",
    "ordersByUsersB = (\n",
    "    orders[orders['group'] == 'B']\n",
    "    .groupby('visitorId', as_index=False)\n",
    "    .agg({'transactionId': pd.Series.nunique})\n",
    ")\n",
    "ordersByUsersB.columns = ['userId', 'orders']\n",
    "sampleA = pd.concat(\n",
    "    [\n",
    "        ordersByUsersA['orders'],\n",
    "        pd.Series(\n",
    "            0,\n",
    "            index=np.arange(\n",
    "                data['visitorsPerDateA'].sum() - len(ordersByUsersA['orders'])\n",
    "            ),\n",
    "            name='orders',\n",
    "        ),\n",
    "    ],\n",
    "    axis=0,\n",
    ")\n",
    "sampleB = pd.concat(\n",
    "    [\n",
    "        ordersByUsersB['orders'],\n",
    "        pd.Series(\n",
    "            0,\n",
    "            index=np.arange(\n",
    "                data['visitorsPerDateB'].sum() - len(ordersByUsersB['orders'])\n",
    "            ),\n",
    "            name='orders',\n",
    "        ),\n",
    "    ],\n",
    "    axis=0,\n",
    ")\n",
    "print('P-value:', \"{0:.3f}\".format(stats.mannwhitneyu(sampleA, sampleB)[1]))\n",
    "print('Относительные различия:',\"{0:.3f}\".format(sampleB.mean() / sampleA.mean() - 1))"
   ]
  },
  {
   "cell_type": "markdown",
   "metadata": {},
   "source": [
    "<div class=\"alert alert-warning\">\n",
    "    \n",
    "  <b>Комментарий ревьюера</b>\n",
    "    \n",
    "  ⚠️ Стоит подписать выводимые значения, что-бы понять, где у нас p-value.\n",
    "</div>\n",
    "<div class=\"alert alert-success\">\n",
    "  \n",
    "  <b>Комментарий ревьюера</b>\n",
    "    \n",
    "  ✔️ Верно выбран стат. тест.\n",
    "\n",
    "</div>"
   ]
  },
  {
   "cell_type": "markdown",
   "metadata": {},
   "source": [
    "P-value чуть больше 1 %, значит что нулевая гипотеза не подтверждается и между группами в А/В тесте есть отличия. \n",
    "Количество заказов в группе В выше на 13%, но это результаты по сырым показателям."
   ]
  },
  {
   "cell_type": "markdown",
   "metadata": {},
   "source": [
    "<div class=\"alert alert-danger\">\n",
    "    \n",
    "  <b>Комментарий ревьюера</b>\n",
    "    \n",
    "  ❌ Прежде чем отвергать\\принимать гипотезы, для каждого теста надо сформулировать нулевую и альтернативную гипотезы, например:\n",
    "- H0 - Нет различий между....\n",
    "- H1 - Есть различия между....\n",
    "</div>"
   ]
  },
  {
   "cell_type": "markdown",
   "metadata": {},
   "source": [
    "    \n",
    "<div class=\"alert alert-block alert-info\">\n",
    "  \n",
    "  <b>Комментарий cтудента</b>\n",
    "    \n",
    "Гипотезы:    \n",
    "    \n",
    "H0:Среднее количество заказов на посетителя групп A и B равны, статистически значимых отличий нет;\n",
    "\n",
    "H1:Среднем количество заказов на посетителя групп A и B различны, статистически значимые отличия есть.\n",
    "    \n",
    "Сейчас сделаю исправления - добавлю подписи \"p-value\" и \"Относительные различия\" к выводу результатов в самих ячейках с кодом\n",
    "</div>\n",
    "<div class=\"alert alert-warning\">\n",
    "    \n",
    "  <b>Комментарий ревьюера v.2</b>\n",
    "    \n",
    "  ⚠️ Лучше написать не о проверке равенства или не равенства, а о проверке наличия или отсутствия стат. значимой разницы между выборками. У нас все-же не будет строго равенства.\n",
    "</div>"
   ]
  },
  {
   "cell_type": "code",
   "execution_count": 24,
   "metadata": {},
   "outputs": [
    {
     "name": "stdout",
     "output_type": "stream",
     "text": [
      "P-value: 0.829\n",
      "Относительные различия: 0.287\n"
     ]
    }
   ],
   "source": [
    "# посчитаем статистическую значимость различий в среднем чеке заказа между группами по «сырым» данным\n",
    "\n",
    "print('P-value:', '{0:.3f}'.format(stats.mannwhitneyu(orders[orders['group']=='A']['revenue'], orders[orders['group']=='B']['revenue'])[1]))\n",
    "print('Относительные различия:','{0:.3f}'.format(orders[orders['group']=='B']['revenue'].mean()/orders[orders['group']=='A']['revenue'].mean()-1))"
   ]
  },
  {
   "cell_type": "markdown",
   "metadata": {},
   "source": [
    "По «сырым» данным различий в среднем чеке заказов групп A и B нет. \n",
    "Однако, второе число в результате показывает нам, что средний чек в группе В выше."
   ]
  },
  {
   "cell_type": "markdown",
   "metadata": {},
   "source": [
    "<div class=\"alert alert-danger\">\n",
    "    \n",
    "  <b>Комментарий ревьюера</b>\n",
    "    \n",
    "  ❌ По результатам теста, как правило, пишут принимаем или отвергаем нулевую гипотезу. \n",
    "\n",
    "С одной стороны пишем: \"По «сырым» данным различий в среднем чеке заказов групп A и B нет\", но потом говорим, что \"Однако, второе число в результате показывает нам, что средний чек в группе В выше\". Выводы немного противоречат друг другу. Тут лучше изменить интерпретацию: наблюдаемое различие в 25.9% не является стат. значимым... и .т.д.\n",
    "\n",
    "</div>    "
   ]
  },
  {
   "cell_type": "markdown",
   "metadata": {},
   "source": [
    "<div class=\"alert alert-block alert-info\">\n",
    "  \n",
    "  <b>Комментарий cтудента</b>\n",
    "    \n",
    "Гипотезы:    \n",
    "    \n",
    "H0:Средние чеки заказов посетителей групп A и B равны, статистически значимых отличий нет;\n",
    "\n",
    "H1:Средние чеки заказов посетителей групп A и B различны, статистически значимые отличия есть.\n",
    "\n",
    "По \"сырым\" данным различий в среднем чеке заказов групп А и В нет, нулевую гипотезу не отвергаем. Относительная разница не является статистически значимой\n",
    "</div>"
   ]
  },
  {
   "cell_type": "markdown",
   "metadata": {},
   "source": [
    "<div class=\"alert alert-success\">\n",
    "  \n",
    "  <b>Комментарий ревьюера v.2</b>\n",
    "    \n",
    "  ✔️ Так вывод звучит корректней. \n",
    "    \n",
    "Тут все просто. Раз теcт показал, что нет стат значимой разницы между группами - то каково бы различие чека не было, оно не будет являться стат. значимым (у нас тут выбросы дают большое различие чеков, но их всего несколько и на общее различие среднего чека по группам они не влияют)\n",
    "</div>"
   ]
  },
  {
   "cell_type": "code",
   "execution_count": 25,
   "metadata": {},
   "outputs": [
    {
     "name": "stdout",
     "output_type": "stream",
     "text": [
      "1099    148427295\n",
      "928     204675465\n",
      "33      249864742\n",
      "684     358944393\n",
      "648     382846391\n",
      "dtype: int64\n",
      "49\n"
     ]
    }
   ],
   "source": [
    "# найдем строки с аномальными значениями\n",
    "\n",
    "usersWithManyOrders = pd.concat(\n",
    "    [\n",
    "        ordersByUsersA[ordersByUsersA['orders'] > 2]['userId'],\n",
    "        ordersByUsersB[ordersByUsersB['orders'] > 2]['userId'],\n",
    "    ],\n",
    "    axis=0,\n",
    ")\n",
    "usersWithExpensiveOrders = orders[orders['revenue'] > 30000]['visitorId']\n",
    "abnormalUsers = (\n",
    "    pd.concat([usersWithManyOrders, usersWithExpensiveOrders], axis=0)\n",
    "    .drop_duplicates()\n",
    "    .sort_values()\n",
    ")\n",
    "print(abnormalUsers.head(5))\n",
    "print(abnormalUsers.shape[0])"
   ]
  },
  {
   "cell_type": "markdown",
   "metadata": {},
   "source": [
    "<div class=\"alert alert-warning\">\n",
    "    \n",
    "  <b>Комментарий ревьюера</b>\n",
    "    \n",
    "  ⚠️ Тут можно или непосредственно вычисления по 95 / 99 перцентилю, например:\n",
    "```python \n",
    "revenue_lim = np.percentile(orders['revenue'], 95)`\n",
    "```\n",
    "или задавать в качестве отдельной переменой:\n",
    "\n",
    "```python \n",
    "revenue_lim = 100000\n",
    "usersWithExpensiveOrders = orders[orders['revenue'] > revenue_lim]['visitorId']`\n",
    "```\n",
    "\n",
    "</div>"
   ]
  },
  {
   "cell_type": "markdown",
   "metadata": {},
   "source": [
    "<div class=\"alert alert-block alert-info\">\n",
    "  \n",
    "  <b>Комментарий cтудента</b>\n",
    "    \n",
    "В ячейке выше я откорректировала значения для фильтрации. Убираем пользователей с заказами больше 2 и на сумму больше 30000 \n",
    "</div>\n",
    "<div class=\"alert alert-success\">\n",
    "  \n",
    "  <b>Комментарий ревьюера v.2</b>\n",
    "    \n",
    "  ✔️ 👌\n",
    "</div>"
   ]
  },
  {
   "cell_type": "markdown",
   "metadata": {},
   "source": [
    "42 пользователя с аномльными значениями будут удалены из результатов тестирования."
   ]
  },
  {
   "cell_type": "code",
   "execution_count": 26,
   "metadata": {},
   "outputs": [],
   "source": [
    "# отфильтруем данные от этих значений\n",
    "\n",
    "sampleAFiltered = pd.concat(\n",
    "    [\n",
    "        ordersByUsersA[\n",
    "            np.logical_not(ordersByUsersA['userId'].isin(abnormalUsers))\n",
    "        ]['orders'],\n",
    "        pd.Series(\n",
    "            0,\n",
    "            index=np.arange(\n",
    "                data['visitorsPerDateA'].sum() - len(ordersByUsersA['orders'])\n",
    "            ),\n",
    "            name='orders',\n",
    "        ),\n",
    "    ],\n",
    "    axis=0,\n",
    ")\n",
    "sampleBFiltered = pd.concat(\n",
    "    [\n",
    "        ordersByUsersB[\n",
    "            np.logical_not(ordersByUsersB['userId'].isin(abnormalUsers))\n",
    "        ]['orders'],\n",
    "        pd.Series(\n",
    "            0,\n",
    "            index=np.arange(\n",
    "                data['visitorsPerDateB'].sum() - len(ordersByUsersB['orders'])\n",
    "            ),\n",
    "            name='orders',\n",
    "        ),\n",
    "    ],\n",
    "    axis=0,\n",
    ")"
   ]
  },
  {
   "cell_type": "code",
   "execution_count": 27,
   "metadata": {},
   "outputs": [
    {
     "name": "stdout",
     "output_type": "stream",
     "text": [
      "P-value: 0.010\n",
      "Относительные различия: 0.187\n"
     ]
    }
   ],
   "source": [
    "# посчитаем статистическую значимость различий в среднем количестве заказов на посетителя между группами по «очищенным» данным\n",
    "\n",
    "print('P-value:', '{0:.3f}'.format(stats.mannwhitneyu(sampleAFiltered, sampleBFiltered)[1]))\n",
    "print('Относительные различия:', '{0:.3f}'.format(sampleBFiltered.mean()/sampleAFiltered.mean()-1))"
   ]
  },
  {
   "cell_type": "markdown",
   "metadata": {},
   "source": [
    "Статичтическая значимость различий в среднем количестве заказов на посетителя между группами по очищенным данным не сильно отличестся от первоначального результата. Нулевую гипотезу мы отвергаем, результат группы B лучше на 15%"
   ]
  },
  {
   "cell_type": "markdown",
   "metadata": {},
   "source": [
    "<div class=\"alert alert-success\">\n",
    "  \n",
    "  <b>Комментарий ревьюера</b>\n",
    "    \n",
    "  ✔️ И тут отвергаем нулевую гипотезу.\n",
    "</div>"
   ]
  },
  {
   "cell_type": "code",
   "execution_count": 28,
   "metadata": {},
   "outputs": [
    {
     "name": "stdout",
     "output_type": "stream",
     "text": [
      "P-value: 0.741\n",
      "Относительные различия: -0.027\n"
     ]
    }
   ],
   "source": [
    "# посчитаем статистическую значимость различий в среднем чеке заказа между группами по «очищенным» данным\n",
    "\n",
    "print('P-value:', \n",
    "    '{0:.3f}'.format(\n",
    "        stats.mannwhitneyu(\n",
    "            orders[\n",
    "                np.logical_and(\n",
    "                    orders['group'] == 'A',\n",
    "                    np.logical_not(orders['visitorId'].isin(abnormalUsers)),\n",
    "                )\n",
    "            ]['revenue'],\n",
    "            orders[\n",
    "                np.logical_and(\n",
    "                    orders['group'] == 'B',\n",
    "                    np.logical_not(orders['visitorId'].isin(abnormalUsers)),\n",
    "                )\n",
    "            ]['revenue'],\n",
    "        )[1]\n",
    "    )\n",
    ")\n",
    "\n",
    "print('Относительные различия:',\n",
    "    \"{0:.3f}\".format(\n",
    "        orders[\n",
    "            np.logical_and(\n",
    "                orders['group'] == 'B',\n",
    "                np.logical_not(orders['visitorId'].isin(abnormalUsers)),\n",
    "            )\n",
    "        ]['revenue'].mean()\n",
    "        / orders[\n",
    "            np.logical_and(\n",
    "                orders['group'] == 'A',\n",
    "                np.logical_not(orders['visitorId'].isin(abnormalUsers)),\n",
    "            )\n",
    "        ]['revenue'].mean()\n",
    "        - 1\n",
    "    )\n",
    ")"
   ]
  },
  {
   "cell_type": "markdown",
   "metadata": {},
   "source": [
    "Средние чеки двух групп не отличаются, p-value гораздо выше 0.05. Показатель группы B на 2.5% лучше группы А."
   ]
  },
  {
   "cell_type": "markdown",
   "metadata": {},
   "source": [
    "<div class=\"alert alert-danger\">\n",
    "    \n",
    "  <b>Комментарий ревьюера</b>\n",
    "    \n",
    "  ❌  Принимаем или отвергаем нулевую гипотезу? И  обрати, пожалуйста, внимание на выводы: в начале мы можем говорить о наблюдаемых различиях, а потом сказать - являются ли они стат. значимыми или нет.\n",
    "\n",
    "</div>"
   ]
  },
  {
   "cell_type": "markdown",
   "metadata": {},
   "source": [
    "<div class=\"alert alert-block alert-info\">\n",
    "  \n",
    "  <b>Комментарий cтудента</b>\n",
    "    \n",
    "Гипотезы:\n",
    "\n",
    "H0:Средние чеки заказов посетителей групп A и B равны, статистически значимых отличий нет;\n",
    "\n",
    "H1:Средние чеки заказов посетителей групп A и B различны, статистически значимые отличия есть.\n",
    "    \n",
    "P-value гораздо выше 0,05, значит мы не отвергаем нулевую гипотезу о равенстве средних чеков заказов двух групп. Относительная разница не значительна.\n",
    "</div>\n",
    "<div class=\"alert alert-success\">\n",
    "  \n",
    "  <b>Комментарий ревьюера v.2</b>\n",
    "    \n",
    "  ✔️ Верно!\n",
    "</div>"
   ]
  },
  {
   "cell_type": "markdown",
   "metadata": {},
   "source": [
    "<b>ВЫВОД</b>\n",
    "\n",
    "По итогам A/B-теста можно сделать следующие выводы:\n",
    "\n",
    "Средний чек в группах A и B не отличается статистически значимо — гипотеза о разнице в среднем значении не подтвердилась.\n",
    "\n",
    "Количество заказов во второй группе оказалось на 15 % выше, чем в первой. Это указывает на то, что внедрённое изменение стимулирует рост числа покупок, но не влияет на их средний размер.\n",
    "\n",
    "Общая выручка группы B превышает выручку группы A, что свидетельствует об успешности нововведения.\n",
    "\n",
    "Таким образом, тест показал, что изменения приводят к увеличению числа заказов без снижения среднего чека. Рекомендуется остановить эксперимент и приступить к масштабному запуску обновлённого функционала."
   ]
  },
  {
   "cell_type": "markdown",
   "metadata": {},
   "source": [
    "<div class=\"alert alert-success\">\n",
    "  \n",
    "  <b>Комментарий ревьюера</b>\n",
    "    \n",
    "  ✔️  Тест окрасился только на половину - по количеству заказов. Но это тоже хорошо, т.к. стат.значимой разницы по среднему чеку нет (чек не увеличился, но и не уменьшился) то при возросшем количестве заказов с сохранившимся средним чеком выручка будет так-же расти. И значит мы заканчиваем анализ A/B-теста - он оказался успешным! \n",
    "\n",
    "</div>\n",
    "<div class=\"alert alert-warning\">\n",
    "    \n",
    "  <b>Комментарий ревьюера</b>\n",
    "    \n",
    "  ⚠️ Также обрати, пожалуйста, внимание на формирование содержания с ссылками. Надо использовать заголовки разного уровня (заголовок должен начинаться с #, ## или ###), так содержание сформируется автоматически.\n",
    "</div>"
   ]
  },
  {
   "cell_type": "markdown",
   "metadata": {},
   "source": [
    "<div style=\"border:solid black 2px; padding: 20px\">\n",
    "  \n",
    "    \n",
    "  <b>Чек-лист доработок</b>\n",
    "    \n",
    " \n",
    "  📃 Проверить корректность разбиения пользователей на группы.\n",
    "    \n",
    "  📃 Пересмотреть выбросы по количеству и стоимости заказов.\n",
    "    \n",
    "  📃 Сформулировать нулевую и альтернативную гипотезы.\n",
    "\n",
    "  📃 Проверить выводы теста среднего чека по сырым и очищенным данным.\n",
    "    \n",
    "  📃 Поправить оформление содержания. \n",
    "      \n",
    "Жду твой проект на повторное ревью. Не стесняйся оставлять комментарии и задавать вопросы. Удачи! Все получится.\n",
    "</div>"
   ]
  }
 ],
 "metadata": {
  "ExecuteTimeLog": [
   {
    "duration": 1501,
    "start_time": "2025-04-18T12:50:55.778Z"
   },
   {
    "duration": 111,
    "start_time": "2025-04-18T13:05:20.812Z"
   },
   {
    "duration": 1237,
    "start_time": "2025-04-18T13:05:29.645Z"
   },
   {
    "duration": 143,
    "start_time": "2025-04-18T13:05:30.884Z"
   },
   {
    "duration": 0,
    "start_time": "2025-04-18T13:05:31.031Z"
   },
   {
    "duration": 18,
    "start_time": "2025-04-18T13:05:57.393Z"
   },
   {
    "duration": 23,
    "start_time": "2025-04-18T13:06:00.169Z"
   },
   {
    "duration": 11,
    "start_time": "2025-04-18T13:06:12.837Z"
   },
   {
    "duration": 18,
    "start_time": "2025-04-18T13:06:21.217Z"
   },
   {
    "duration": 12,
    "start_time": "2025-04-18T13:08:04.978Z"
   },
   {
    "duration": 19,
    "start_time": "2025-04-18T13:08:12.005Z"
   },
   {
    "duration": 1274,
    "start_time": "2025-04-18T13:13:07.618Z"
   },
   {
    "duration": 17,
    "start_time": "2025-04-18T13:13:08.894Z"
   },
   {
    "duration": 27,
    "start_time": "2025-04-18T13:13:08.913Z"
   },
   {
    "duration": 18,
    "start_time": "2025-04-18T13:14:08.752Z"
   },
   {
    "duration": 1352,
    "start_time": "2025-04-19T18:54:51.604Z"
   },
   {
    "duration": 28,
    "start_time": "2025-04-19T18:54:52.959Z"
   },
   {
    "duration": 55,
    "start_time": "2025-04-19T18:54:52.988Z"
   },
   {
    "duration": 0,
    "start_time": "2025-04-19T19:21:09.852Z"
   },
   {
    "duration": 0,
    "start_time": "2025-04-19T19:21:09.853Z"
   },
   {
    "duration": 0,
    "start_time": "2025-04-19T19:21:09.854Z"
   },
   {
    "duration": 0,
    "start_time": "2025-04-19T19:21:09.856Z"
   },
   {
    "duration": 0,
    "start_time": "2025-04-19T19:24:19.708Z"
   },
   {
    "duration": 0,
    "start_time": "2025-04-19T19:24:19.709Z"
   },
   {
    "duration": 0,
    "start_time": "2025-04-19T19:24:19.710Z"
   },
   {
    "duration": 0,
    "start_time": "2025-04-19T19:24:19.711Z"
   },
   {
    "duration": 1218,
    "start_time": "2025-04-19T19:27:32.917Z"
   },
   {
    "duration": 17,
    "start_time": "2025-04-19T19:27:34.137Z"
   },
   {
    "duration": 30,
    "start_time": "2025-04-19T19:27:34.156Z"
   },
   {
    "duration": 1268,
    "start_time": "2025-04-19T19:27:34.188Z"
   },
   {
    "duration": 23,
    "start_time": "2025-04-19T19:39:07.707Z"
   },
   {
    "duration": 8,
    "start_time": "2025-04-19T19:39:50.188Z"
   },
   {
    "duration": 8,
    "start_time": "2025-04-19T19:41:35.608Z"
   },
   {
    "duration": 6,
    "start_time": "2025-04-19T19:43:45.317Z"
   },
   {
    "duration": 9,
    "start_time": "2025-04-19T19:44:15.118Z"
   },
   {
    "duration": 8,
    "start_time": "2025-04-19T19:44:35.715Z"
   },
   {
    "duration": 8,
    "start_time": "2025-04-19T19:49:35.411Z"
   },
   {
    "duration": 88,
    "start_time": "2025-04-19T21:18:15.107Z"
   },
   {
    "duration": 8,
    "start_time": "2025-04-19T21:18:34.837Z"
   },
   {
    "duration": 9,
    "start_time": "2025-04-19T21:27:49.739Z"
   },
   {
    "duration": 9,
    "start_time": "2025-04-19T21:28:17.865Z"
   },
   {
    "duration": 12,
    "start_time": "2025-04-19T21:29:04.179Z"
   },
   {
    "duration": 51,
    "start_time": "2025-04-19T21:29:11.311Z"
   },
   {
    "duration": 37,
    "start_time": "2025-04-19T21:29:11.809Z"
   },
   {
    "duration": 32,
    "start_time": "2025-04-19T21:30:05.991Z"
   },
   {
    "duration": 30,
    "start_time": "2025-04-19T21:31:31.575Z"
   },
   {
    "duration": 11,
    "start_time": "2025-04-19T21:33:15.972Z"
   },
   {
    "duration": 105,
    "start_time": "2025-04-19T21:35:59.765Z"
   },
   {
    "duration": 12,
    "start_time": "2025-04-19T21:36:00.013Z"
   },
   {
    "duration": 333,
    "start_time": "2025-04-19T21:36:09.085Z"
   },
   {
    "duration": 4,
    "start_time": "2025-04-19T21:37:20.201Z"
   },
   {
    "duration": 12,
    "start_time": "2025-04-19T21:37:30.177Z"
   },
   {
    "duration": 312,
    "start_time": "2025-04-19T21:38:15.812Z"
   },
   {
    "duration": 1092,
    "start_time": "2025-04-19T21:39:22.056Z"
   },
   {
    "duration": 17,
    "start_time": "2025-04-19T21:39:23.149Z"
   },
   {
    "duration": 20,
    "start_time": "2025-04-19T21:39:23.167Z"
   },
   {
    "duration": 8,
    "start_time": "2025-04-19T21:39:23.188Z"
   },
   {
    "duration": 8,
    "start_time": "2025-04-19T21:39:23.198Z"
   },
   {
    "duration": 54,
    "start_time": "2025-04-19T21:39:23.207Z"
   },
   {
    "duration": 29,
    "start_time": "2025-04-19T21:39:23.263Z"
   },
   {
    "duration": 13,
    "start_time": "2025-04-19T21:39:23.294Z"
   },
   {
    "duration": 15,
    "start_time": "2025-04-19T21:39:23.308Z"
   },
   {
    "duration": 55,
    "start_time": "2025-04-20T06:44:31.110Z"
   },
   {
    "duration": 1431,
    "start_time": "2025-04-20T06:44:37.531Z"
   },
   {
    "duration": 28,
    "start_time": "2025-04-20T06:44:38.964Z"
   },
   {
    "duration": 23,
    "start_time": "2025-04-20T06:44:38.994Z"
   },
   {
    "duration": 10,
    "start_time": "2025-04-20T06:44:39.018Z"
   },
   {
    "duration": 8,
    "start_time": "2025-04-20T06:44:39.031Z"
   },
   {
    "duration": 53,
    "start_time": "2025-04-20T06:44:39.041Z"
   },
   {
    "duration": 31,
    "start_time": "2025-04-20T06:44:39.096Z"
   },
   {
    "duration": 15,
    "start_time": "2025-04-20T06:44:39.129Z"
   },
   {
    "duration": 41,
    "start_time": "2025-04-20T06:44:39.146Z"
   },
   {
    "duration": 423,
    "start_time": "2025-04-20T06:46:07.963Z"
   },
   {
    "duration": 1301,
    "start_time": "2025-04-20T06:46:15.814Z"
   },
   {
    "duration": 17,
    "start_time": "2025-04-20T06:46:17.117Z"
   },
   {
    "duration": 22,
    "start_time": "2025-04-20T06:46:17.136Z"
   },
   {
    "duration": 18,
    "start_time": "2025-04-20T06:46:17.160Z"
   },
   {
    "duration": 32,
    "start_time": "2025-04-20T06:46:17.180Z"
   },
   {
    "duration": 54,
    "start_time": "2025-04-20T06:46:17.214Z"
   },
   {
    "duration": 35,
    "start_time": "2025-04-20T06:46:17.270Z"
   },
   {
    "duration": 15,
    "start_time": "2025-04-20T06:46:17.306Z"
   },
   {
    "duration": 17,
    "start_time": "2025-04-20T06:46:17.323Z"
   },
   {
    "duration": 1487,
    "start_time": "2025-04-21T18:56:13.745Z"
   },
   {
    "duration": 19,
    "start_time": "2025-04-21T18:56:15.234Z"
   },
   {
    "duration": 24,
    "start_time": "2025-04-21T18:56:15.255Z"
   },
   {
    "duration": 10,
    "start_time": "2025-04-21T18:56:15.282Z"
   },
   {
    "duration": 12,
    "start_time": "2025-04-21T18:56:15.294Z"
   },
   {
    "duration": 56,
    "start_time": "2025-04-21T18:56:15.308Z"
   },
   {
    "duration": 34,
    "start_time": "2025-04-21T18:56:15.366Z"
   },
   {
    "duration": 16,
    "start_time": "2025-04-21T18:56:15.402Z"
   },
   {
    "duration": 45,
    "start_time": "2025-04-21T18:56:15.420Z"
   },
   {
    "duration": 3,
    "start_time": "2025-04-21T18:56:15.467Z"
   },
   {
    "duration": 6,
    "start_time": "2025-04-21T19:17:13.672Z"
   },
   {
    "duration": 125,
    "start_time": "2025-04-21T19:18:37.827Z"
   },
   {
    "duration": 174,
    "start_time": "2025-04-21T19:20:10.146Z"
   },
   {
    "duration": 169,
    "start_time": "2025-04-21T19:20:49.916Z"
   },
   {
    "duration": 335,
    "start_time": "2025-04-21T19:25:01.441Z"
   },
   {
    "duration": 291,
    "start_time": "2025-04-21T19:29:56.185Z"
   },
   {
    "duration": 300,
    "start_time": "2025-04-21T19:34:49.005Z"
   },
   {
    "duration": 202,
    "start_time": "2025-04-21T19:38:09.320Z"
   },
   {
    "duration": 205,
    "start_time": "2025-04-21T19:38:54.034Z"
   },
   {
    "duration": 9,
    "start_time": "2025-04-21T19:41:24.085Z"
   },
   {
    "duration": 209,
    "start_time": "2025-04-21T19:43:15.260Z"
   },
   {
    "duration": 210,
    "start_time": "2025-04-21T19:45:24.039Z"
   },
   {
    "duration": 203,
    "start_time": "2025-04-21T19:55:02.589Z"
   },
   {
    "duration": 267,
    "start_time": "2025-04-21T20:23:03.789Z"
   },
   {
    "duration": 185,
    "start_time": "2025-04-21T20:23:54.509Z"
   },
   {
    "duration": 1331,
    "start_time": "2025-04-22T15:08:18.017Z"
   },
   {
    "duration": 59,
    "start_time": "2025-04-22T15:08:19.349Z"
   },
   {
    "duration": 25,
    "start_time": "2025-04-22T15:08:19.410Z"
   },
   {
    "duration": 9,
    "start_time": "2025-04-22T15:08:19.437Z"
   },
   {
    "duration": 9,
    "start_time": "2025-04-22T15:08:19.448Z"
   },
   {
    "duration": 160,
    "start_time": "2025-04-22T15:08:19.458Z"
   },
   {
    "duration": 28,
    "start_time": "2025-04-22T15:08:19.620Z"
   },
   {
    "duration": 12,
    "start_time": "2025-04-22T15:08:19.649Z"
   },
   {
    "duration": 19,
    "start_time": "2025-04-22T15:08:19.662Z"
   },
   {
    "duration": 278,
    "start_time": "2025-04-22T15:08:19.683Z"
   },
   {
    "duration": 259,
    "start_time": "2025-04-22T15:08:19.962Z"
   },
   {
    "duration": 181,
    "start_time": "2025-04-22T15:08:20.223Z"
   },
   {
    "duration": 2,
    "start_time": "2025-04-22T15:08:20.405Z"
   },
   {
    "duration": 20,
    "start_time": "2025-04-22T15:08:20.409Z"
   },
   {
    "duration": 329,
    "start_time": "2025-04-22T15:11:02.645Z"
   },
   {
    "duration": 254,
    "start_time": "2025-04-22T15:11:21.057Z"
   },
   {
    "duration": 286,
    "start_time": "2025-04-22T15:14:17.025Z"
   },
   {
    "duration": 180,
    "start_time": "2025-04-22T15:18:15.525Z"
   },
   {
    "duration": 246,
    "start_time": "2025-04-22T15:35:01.871Z"
   },
   {
    "duration": 346,
    "start_time": "2025-04-22T15:35:45.166Z"
   },
   {
    "duration": 282,
    "start_time": "2025-04-22T15:36:30.437Z"
   },
   {
    "duration": 90,
    "start_time": "2025-04-22T16:47:20.645Z"
   },
   {
    "duration": 9,
    "start_time": "2025-04-22T16:48:33.985Z"
   },
   {
    "duration": 102,
    "start_time": "2025-04-22T16:51:30.685Z"
   },
   {
    "duration": 107,
    "start_time": "2025-04-22T16:54:23.165Z"
   },
   {
    "duration": 4,
    "start_time": "2025-04-22T17:05:42.845Z"
   },
   {
    "duration": 124,
    "start_time": "2025-04-22T17:10:07.116Z"
   },
   {
    "duration": 5,
    "start_time": "2025-04-22T17:33:21.895Z"
   },
   {
    "duration": 124,
    "start_time": "2025-04-22T17:34:22.002Z"
   },
   {
    "duration": 1179,
    "start_time": "2025-04-22T19:09:47.273Z"
   },
   {
    "duration": 16,
    "start_time": "2025-04-22T19:09:48.454Z"
   },
   {
    "duration": 19,
    "start_time": "2025-04-22T19:09:48.472Z"
   },
   {
    "duration": 11,
    "start_time": "2025-04-22T19:09:48.493Z"
   },
   {
    "duration": 28,
    "start_time": "2025-04-22T19:09:48.506Z"
   },
   {
    "duration": 70,
    "start_time": "2025-04-22T19:09:48.535Z"
   },
   {
    "duration": 28,
    "start_time": "2025-04-22T19:09:48.606Z"
   },
   {
    "duration": 12,
    "start_time": "2025-04-22T19:09:48.636Z"
   },
   {
    "duration": 19,
    "start_time": "2025-04-22T19:09:48.649Z"
   },
   {
    "duration": 291,
    "start_time": "2025-04-22T19:09:48.670Z"
   },
   {
    "duration": 271,
    "start_time": "2025-04-22T19:09:48.963Z"
   },
   {
    "duration": 187,
    "start_time": "2025-04-22T19:09:49.236Z"
   },
   {
    "duration": 300,
    "start_time": "2025-04-22T19:09:49.424Z"
   },
   {
    "duration": 214,
    "start_time": "2025-04-22T19:09:49.727Z"
   },
   {
    "duration": 306,
    "start_time": "2025-04-22T19:09:49.943Z"
   },
   {
    "duration": 124,
    "start_time": "2025-04-22T19:09:50.251Z"
   },
   {
    "duration": 3,
    "start_time": "2025-04-22T19:09:50.377Z"
   },
   {
    "duration": 158,
    "start_time": "2025-04-22T19:09:50.382Z"
   },
   {
    "duration": 98,
    "start_time": "2025-04-22T19:09:50.542Z"
   },
   {
    "duration": 0,
    "start_time": "2025-04-22T19:09:50.641Z"
   },
   {
    "duration": 0,
    "start_time": "2025-04-22T19:09:50.644Z"
   },
   {
    "duration": 0,
    "start_time": "2025-04-22T19:09:50.645Z"
   },
   {
    "duration": 0,
    "start_time": "2025-04-22T19:09:50.646Z"
   },
   {
    "duration": 0,
    "start_time": "2025-04-22T19:09:50.647Z"
   },
   {
    "duration": 4,
    "start_time": "2025-04-22T19:56:11.595Z"
   },
   {
    "duration": 13,
    "start_time": "2025-04-22T20:31:20.681Z"
   },
   {
    "duration": 285,
    "start_time": "2025-04-22T20:34:25.298Z"
   },
   {
    "duration": 16,
    "start_time": "2025-04-22T20:38:54.113Z"
   },
   {
    "duration": 153,
    "start_time": "2025-04-22T20:39:46.644Z"
   },
   {
    "duration": 10,
    "start_time": "2025-04-22T20:42:16.393Z"
   },
   {
    "duration": 5,
    "start_time": "2025-04-22T20:47:02.513Z"
   },
   {
    "duration": 1137,
    "start_time": "2025-04-22T20:51:54.893Z"
   },
   {
    "duration": 14,
    "start_time": "2025-04-22T20:53:36.053Z"
   },
   {
    "duration": 9,
    "start_time": "2025-04-22T20:53:53.738Z"
   },
   {
    "duration": 8,
    "start_time": "2025-04-22T20:54:37.177Z"
   },
   {
    "duration": 9,
    "start_time": "2025-04-22T20:58:20.372Z"
   },
   {
    "duration": 23,
    "start_time": "2025-04-22T21:00:01.193Z"
   },
   {
    "duration": 13,
    "start_time": "2025-04-22T21:01:21.793Z"
   },
   {
    "duration": 24,
    "start_time": "2025-04-22T21:02:48.227Z"
   },
   {
    "duration": 14,
    "start_time": "2025-04-22T21:03:13.652Z"
   },
   {
    "duration": 1388,
    "start_time": "2025-04-23T06:12:43.647Z"
   },
   {
    "duration": 28,
    "start_time": "2025-04-23T06:12:45.037Z"
   },
   {
    "duration": 29,
    "start_time": "2025-04-23T06:12:45.067Z"
   },
   {
    "duration": 9,
    "start_time": "2025-04-23T06:12:45.098Z"
   },
   {
    "duration": 7,
    "start_time": "2025-04-23T06:12:45.109Z"
   },
   {
    "duration": 76,
    "start_time": "2025-04-23T06:12:45.118Z"
   },
   {
    "duration": 36,
    "start_time": "2025-04-23T06:12:45.196Z"
   },
   {
    "duration": 15,
    "start_time": "2025-04-23T06:12:45.233Z"
   },
   {
    "duration": 17,
    "start_time": "2025-04-23T06:12:45.250Z"
   },
   {
    "duration": 295,
    "start_time": "2025-04-23T06:12:45.268Z"
   },
   {
    "duration": 281,
    "start_time": "2025-04-23T06:12:45.565Z"
   },
   {
    "duration": 209,
    "start_time": "2025-04-23T06:12:45.848Z"
   },
   {
    "duration": 354,
    "start_time": "2025-04-23T06:12:46.059Z"
   },
   {
    "duration": 230,
    "start_time": "2025-04-23T06:12:46.416Z"
   },
   {
    "duration": 292,
    "start_time": "2025-04-23T06:12:46.647Z"
   },
   {
    "duration": 137,
    "start_time": "2025-04-23T06:12:46.942Z"
   },
   {
    "duration": 5,
    "start_time": "2025-04-23T06:12:47.081Z"
   },
   {
    "duration": 211,
    "start_time": "2025-04-23T06:12:47.087Z"
   },
   {
    "duration": 5,
    "start_time": "2025-04-23T06:12:47.300Z"
   },
   {
    "duration": 235,
    "start_time": "2025-04-23T06:12:47.306Z"
   },
   {
    "duration": 174,
    "start_time": "2025-04-23T06:12:47.543Z"
   },
   {
    "duration": 20,
    "start_time": "2025-04-23T06:12:47.718Z"
   },
   {
    "duration": 79,
    "start_time": "2025-04-23T06:12:47.739Z"
   },
   {
    "duration": 24,
    "start_time": "2025-04-23T06:12:47.819Z"
   },
   {
    "duration": 23,
    "start_time": "2025-04-23T06:12:47.845Z"
   },
   {
    "duration": 14,
    "start_time": "2025-04-23T06:12:47.870Z"
   },
   {
    "duration": 86,
    "start_time": "2025-04-23T16:09:36.620Z"
   },
   {
    "duration": 74,
    "start_time": "2025-04-23T16:28:22.310Z"
   },
   {
    "duration": 1453,
    "start_time": "2025-04-23T17:03:34.956Z"
   },
   {
    "duration": 28,
    "start_time": "2025-04-23T17:03:36.411Z"
   },
   {
    "duration": 29,
    "start_time": "2025-04-23T17:03:36.440Z"
   },
   {
    "duration": 10,
    "start_time": "2025-04-23T17:03:36.471Z"
   },
   {
    "duration": 12,
    "start_time": "2025-04-23T17:03:36.483Z"
   },
   {
    "duration": 84,
    "start_time": "2025-04-23T17:03:36.496Z"
   },
   {
    "duration": 38,
    "start_time": "2025-04-23T17:03:36.582Z"
   },
   {
    "duration": 25,
    "start_time": "2025-04-23T17:03:36.622Z"
   },
   {
    "duration": 41,
    "start_time": "2025-04-23T17:03:36.649Z"
   },
   {
    "duration": 333,
    "start_time": "2025-04-23T17:03:36.692Z"
   },
   {
    "duration": 326,
    "start_time": "2025-04-23T17:03:37.026Z"
   },
   {
    "duration": 223,
    "start_time": "2025-04-23T17:03:37.354Z"
   },
   {
    "duration": 333,
    "start_time": "2025-04-23T17:03:37.580Z"
   },
   {
    "duration": 225,
    "start_time": "2025-04-23T17:03:37.915Z"
   },
   {
    "duration": 354,
    "start_time": "2025-04-23T17:03:38.142Z"
   },
   {
    "duration": 140,
    "start_time": "2025-04-23T17:03:38.497Z"
   },
   {
    "duration": 5,
    "start_time": "2025-04-23T17:03:38.638Z"
   },
   {
    "duration": 158,
    "start_time": "2025-04-23T17:03:38.644Z"
   },
   {
    "duration": 5,
    "start_time": "2025-04-23T17:03:38.803Z"
   },
   {
    "duration": 313,
    "start_time": "2025-04-23T17:03:38.809Z"
   },
   {
    "duration": 175,
    "start_time": "2025-04-23T17:03:39.123Z"
   },
   {
    "duration": 12,
    "start_time": "2025-04-23T17:03:39.299Z"
   },
   {
    "duration": 23,
    "start_time": "2025-04-23T17:03:39.312Z"
   },
   {
    "duration": 11,
    "start_time": "2025-04-23T17:03:39.337Z"
   },
   {
    "duration": 31,
    "start_time": "2025-04-23T17:03:39.362Z"
   },
   {
    "duration": 14,
    "start_time": "2025-04-23T17:03:39.395Z"
   },
   {
    "duration": 1403,
    "start_time": "2025-04-28T15:18:37.339Z"
   },
   {
    "duration": 28,
    "start_time": "2025-04-28T15:18:38.744Z"
   },
   {
    "duration": 32,
    "start_time": "2025-04-28T15:18:38.773Z"
   },
   {
    "duration": 9,
    "start_time": "2025-04-28T15:18:38.807Z"
   },
   {
    "duration": 8,
    "start_time": "2025-04-28T15:18:38.818Z"
   },
   {
    "duration": 60,
    "start_time": "2025-04-28T15:18:38.828Z"
   },
   {
    "duration": 37,
    "start_time": "2025-04-28T15:18:38.890Z"
   },
   {
    "duration": 15,
    "start_time": "2025-04-28T15:18:38.929Z"
   },
   {
    "duration": 17,
    "start_time": "2025-04-28T15:18:38.946Z"
   },
   {
    "duration": 308,
    "start_time": "2025-04-28T15:18:38.964Z"
   },
   {
    "duration": 288,
    "start_time": "2025-04-28T15:18:39.274Z"
   },
   {
    "duration": 205,
    "start_time": "2025-04-28T15:18:39.564Z"
   },
   {
    "duration": 405,
    "start_time": "2025-04-28T15:18:39.771Z"
   },
   {
    "duration": 220,
    "start_time": "2025-04-28T15:18:40.179Z"
   },
   {
    "duration": 337,
    "start_time": "2025-04-28T15:18:40.400Z"
   },
   {
    "duration": 138,
    "start_time": "2025-04-28T15:18:40.739Z"
   },
   {
    "duration": 5,
    "start_time": "2025-04-28T15:18:40.879Z"
   },
   {
    "duration": 153,
    "start_time": "2025-04-28T15:18:40.886Z"
   },
   {
    "duration": 5,
    "start_time": "2025-04-28T15:18:41.041Z"
   },
   {
    "duration": 332,
    "start_time": "2025-04-28T15:18:41.047Z"
   },
   {
    "duration": 159,
    "start_time": "2025-04-28T15:18:41.381Z"
   },
   {
    "duration": 10,
    "start_time": "2025-04-28T15:18:41.542Z"
   },
   {
    "duration": 9,
    "start_time": "2025-04-28T15:18:41.554Z"
   },
   {
    "duration": 9,
    "start_time": "2025-04-28T15:18:41.565Z"
   },
   {
    "duration": 26,
    "start_time": "2025-04-28T15:18:41.576Z"
   },
   {
    "duration": 16,
    "start_time": "2025-04-28T15:18:41.637Z"
   },
   {
    "duration": 13,
    "start_time": "2025-04-28T17:32:06.267Z"
   },
   {
    "duration": 129,
    "start_time": "2025-04-28T17:33:36.232Z"
   },
   {
    "duration": 11,
    "start_time": "2025-04-28T17:34:02.953Z"
   },
   {
    "duration": 4,
    "start_time": "2025-04-28T17:34:03.604Z"
   },
   {
    "duration": 1266,
    "start_time": "2025-04-28T18:41:18.287Z"
   },
   {
    "duration": 22,
    "start_time": "2025-04-28T18:41:19.556Z"
   },
   {
    "duration": 22,
    "start_time": "2025-04-28T18:41:19.580Z"
   },
   {
    "duration": 9,
    "start_time": "2025-04-28T18:41:19.605Z"
   },
   {
    "duration": 27,
    "start_time": "2025-04-28T18:41:19.616Z"
   },
   {
    "duration": 51,
    "start_time": "2025-04-28T18:41:19.646Z"
   },
   {
    "duration": 35,
    "start_time": "2025-04-28T18:41:19.699Z"
   },
   {
    "duration": 26,
    "start_time": "2025-04-28T18:41:19.737Z"
   },
   {
    "duration": 22,
    "start_time": "2025-04-28T18:41:19.765Z"
   },
   {
    "duration": 10,
    "start_time": "2025-04-28T18:41:19.789Z"
   },
   {
    "duration": 4,
    "start_time": "2025-04-28T18:41:19.801Z"
   },
   {
    "duration": 364,
    "start_time": "2025-04-28T18:41:19.806Z"
   },
   {
    "duration": 329,
    "start_time": "2025-04-28T18:41:20.172Z"
   },
   {
    "duration": 233,
    "start_time": "2025-04-28T18:41:20.503Z"
   },
   {
    "duration": 336,
    "start_time": "2025-04-28T18:41:20.738Z"
   },
   {
    "duration": 225,
    "start_time": "2025-04-28T18:41:21.076Z"
   },
   {
    "duration": 354,
    "start_time": "2025-04-28T18:41:21.303Z"
   },
   {
    "duration": 166,
    "start_time": "2025-04-28T18:41:21.660Z"
   },
   {
    "duration": 11,
    "start_time": "2025-04-28T18:41:21.828Z"
   },
   {
    "duration": 160,
    "start_time": "2025-04-28T18:41:21.841Z"
   },
   {
    "duration": 5,
    "start_time": "2025-04-28T18:41:22.003Z"
   },
   {
    "duration": 354,
    "start_time": "2025-04-28T18:41:22.009Z"
   },
   {
    "duration": 187,
    "start_time": "2025-04-28T18:41:22.365Z"
   },
   {
    "duration": 14,
    "start_time": "2025-04-28T18:41:22.554Z"
   },
   {
    "duration": 10,
    "start_time": "2025-04-28T18:41:22.570Z"
   },
   {
    "duration": 10,
    "start_time": "2025-04-28T18:41:22.581Z"
   },
   {
    "duration": 52,
    "start_time": "2025-04-28T18:41:22.593Z"
   },
   {
    "duration": 23,
    "start_time": "2025-04-28T18:41:22.649Z"
   },
   {
    "duration": 32,
    "start_time": "2025-04-28T18:41:56.009Z"
   },
   {
    "duration": 1339,
    "start_time": "2025-04-28T18:42:02.901Z"
   },
   {
    "duration": 19,
    "start_time": "2025-04-28T18:42:04.243Z"
   },
   {
    "duration": 38,
    "start_time": "2025-04-28T18:42:04.265Z"
   },
   {
    "duration": 10,
    "start_time": "2025-04-28T18:42:04.304Z"
   },
   {
    "duration": 17,
    "start_time": "2025-04-28T18:42:04.316Z"
   },
   {
    "duration": 61,
    "start_time": "2025-04-28T18:42:04.338Z"
   },
   {
    "duration": 35,
    "start_time": "2025-04-28T18:42:04.400Z"
   },
   {
    "duration": 26,
    "start_time": "2025-04-28T18:42:04.436Z"
   },
   {
    "duration": 15,
    "start_time": "2025-04-28T18:42:04.464Z"
   },
   {
    "duration": 11,
    "start_time": "2025-04-28T18:42:04.482Z"
   },
   {
    "duration": 60,
    "start_time": "2025-04-28T18:42:04.495Z"
   },
   {
    "duration": 394,
    "start_time": "2025-04-28T18:42:04.557Z"
   },
   {
    "duration": 342,
    "start_time": "2025-04-28T18:42:04.954Z"
   },
   {
    "duration": 243,
    "start_time": "2025-04-28T18:42:05.299Z"
   },
   {
    "duration": 331,
    "start_time": "2025-04-28T18:42:05.545Z"
   },
   {
    "duration": 243,
    "start_time": "2025-04-28T18:42:05.878Z"
   },
   {
    "duration": 372,
    "start_time": "2025-04-28T18:42:06.123Z"
   },
   {
    "duration": 199,
    "start_time": "2025-04-28T18:42:06.497Z"
   },
   {
    "duration": 4,
    "start_time": "2025-04-28T18:42:06.698Z"
   },
   {
    "duration": 192,
    "start_time": "2025-04-28T18:42:06.704Z"
   },
   {
    "duration": 4,
    "start_time": "2025-04-28T18:42:06.898Z"
   },
   {
    "duration": 375,
    "start_time": "2025-04-28T18:42:06.904Z"
   },
   {
    "duration": 174,
    "start_time": "2025-04-28T18:42:07.281Z"
   },
   {
    "duration": 14,
    "start_time": "2025-04-28T18:42:07.458Z"
   },
   {
    "duration": 28,
    "start_time": "2025-04-28T18:42:07.474Z"
   },
   {
    "duration": 121,
    "start_time": "2025-04-28T18:42:07.504Z"
   },
   {
    "duration": 40,
    "start_time": "2025-04-28T18:42:07.627Z"
   },
   {
    "duration": 20,
    "start_time": "2025-04-28T18:42:07.670Z"
   },
   {
    "duration": 178,
    "start_time": "2025-04-28T19:20:28.288Z"
   },
   {
    "duration": 162,
    "start_time": "2025-04-28T19:20:37.005Z"
   },
   {
    "duration": 1269,
    "start_time": "2025-04-28T19:24:25.713Z"
   },
   {
    "duration": 17,
    "start_time": "2025-04-28T19:24:26.985Z"
   },
   {
    "duration": 34,
    "start_time": "2025-04-28T19:24:27.003Z"
   },
   {
    "duration": 11,
    "start_time": "2025-04-28T19:24:27.039Z"
   },
   {
    "duration": 9,
    "start_time": "2025-04-28T19:24:27.053Z"
   },
   {
    "duration": 52,
    "start_time": "2025-04-28T19:24:27.064Z"
   },
   {
    "duration": 33,
    "start_time": "2025-04-28T19:24:27.118Z"
   },
   {
    "duration": 15,
    "start_time": "2025-04-28T19:24:27.153Z"
   },
   {
    "duration": 16,
    "start_time": "2025-04-28T19:24:27.170Z"
   },
   {
    "duration": 14,
    "start_time": "2025-04-28T19:24:27.188Z"
   },
   {
    "duration": 31,
    "start_time": "2025-04-28T19:24:27.237Z"
   },
   {
    "duration": 339,
    "start_time": "2025-04-28T19:24:27.271Z"
   },
   {
    "duration": 312,
    "start_time": "2025-04-28T19:24:27.613Z"
   },
   {
    "duration": 213,
    "start_time": "2025-04-28T19:24:27.937Z"
   },
   {
    "duration": 289,
    "start_time": "2025-04-28T19:24:28.152Z"
   },
   {
    "duration": 221,
    "start_time": "2025-04-28T19:24:28.443Z"
   },
   {
    "duration": 290,
    "start_time": "2025-04-28T19:24:28.666Z"
   },
   {
    "duration": 162,
    "start_time": "2025-04-28T19:24:28.958Z"
   },
   {
    "duration": 5,
    "start_time": "2025-04-28T19:24:29.122Z"
   },
   {
    "duration": 151,
    "start_time": "2025-04-28T19:24:29.137Z"
   },
   {
    "duration": 5,
    "start_time": "2025-04-28T19:24:29.290Z"
   },
   {
    "duration": 365,
    "start_time": "2025-04-28T19:24:29.297Z"
   },
   {
    "duration": 177,
    "start_time": "2025-04-28T19:24:29.664Z"
   },
   {
    "duration": 13,
    "start_time": "2025-04-28T19:24:29.843Z"
   },
   {
    "duration": 11,
    "start_time": "2025-04-28T19:24:29.858Z"
   },
   {
    "duration": 10,
    "start_time": "2025-04-28T19:24:29.871Z"
   },
   {
    "duration": 62,
    "start_time": "2025-04-28T19:24:29.883Z"
   },
   {
    "duration": 125,
    "start_time": "2025-04-28T19:24:29.947Z"
   },
   {
    "duration": 10,
    "start_time": "2025-04-28T19:25:47.389Z"
   },
   {
    "duration": 125,
    "start_time": "2025-04-28T19:27:32.297Z"
   },
   {
    "duration": 1270,
    "start_time": "2025-04-28T19:27:44.828Z"
   },
   {
    "duration": 17,
    "start_time": "2025-04-28T19:27:46.101Z"
   },
   {
    "duration": 39,
    "start_time": "2025-04-28T19:27:46.119Z"
   },
   {
    "duration": 12,
    "start_time": "2025-04-28T19:27:46.159Z"
   },
   {
    "duration": 10,
    "start_time": "2025-04-28T19:27:46.173Z"
   },
   {
    "duration": 52,
    "start_time": "2025-04-28T19:27:46.184Z"
   },
   {
    "duration": 35,
    "start_time": "2025-04-28T19:27:46.249Z"
   },
   {
    "duration": 14,
    "start_time": "2025-04-28T19:27:46.286Z"
   },
   {
    "duration": 46,
    "start_time": "2025-04-28T19:27:46.302Z"
   },
   {
    "duration": 14,
    "start_time": "2025-04-28T19:27:46.350Z"
   },
   {
    "duration": 32,
    "start_time": "2025-04-28T19:27:46.366Z"
   },
   {
    "duration": 351,
    "start_time": "2025-04-28T19:27:46.400Z"
   },
   {
    "duration": 305,
    "start_time": "2025-04-28T19:27:46.753Z"
   },
   {
    "duration": 211,
    "start_time": "2025-04-28T19:27:47.061Z"
   },
   {
    "duration": 292,
    "start_time": "2025-04-28T19:27:47.273Z"
   },
   {
    "duration": 226,
    "start_time": "2025-04-28T19:27:47.567Z"
   },
   {
    "duration": 376,
    "start_time": "2025-04-28T19:27:47.795Z"
   },
   {
    "duration": 158,
    "start_time": "2025-04-28T19:27:48.173Z"
   },
   {
    "duration": 21,
    "start_time": "2025-04-28T19:27:48.333Z"
   },
   {
    "duration": 162,
    "start_time": "2025-04-28T19:27:48.356Z"
   },
   {
    "duration": 5,
    "start_time": "2025-04-28T19:27:48.520Z"
   },
   {
    "duration": 345,
    "start_time": "2025-04-28T19:27:48.527Z"
   },
   {
    "duration": 171,
    "start_time": "2025-04-28T19:27:48.874Z"
   },
   {
    "duration": 16,
    "start_time": "2025-04-28T19:27:49.047Z"
   },
   {
    "duration": 10,
    "start_time": "2025-04-28T19:27:49.064Z"
   },
   {
    "duration": 11,
    "start_time": "2025-04-28T19:27:49.076Z"
   },
   {
    "duration": 28,
    "start_time": "2025-04-28T19:27:49.089Z"
   },
   {
    "duration": 22,
    "start_time": "2025-04-28T19:27:49.142Z"
   },
   {
    "duration": 1218,
    "start_time": "2025-04-29T06:29:03.152Z"
   },
   {
    "duration": 19,
    "start_time": "2025-04-29T06:29:04.372Z"
   },
   {
    "duration": 83,
    "start_time": "2025-04-29T06:29:04.394Z"
   },
   {
    "duration": 12,
    "start_time": "2025-04-29T06:29:04.479Z"
   },
   {
    "duration": 19,
    "start_time": "2025-04-29T06:29:04.494Z"
   },
   {
    "duration": 55,
    "start_time": "2025-04-29T06:29:04.515Z"
   },
   {
    "duration": 42,
    "start_time": "2025-04-29T06:29:04.572Z"
   },
   {
    "duration": 13,
    "start_time": "2025-04-29T06:29:04.616Z"
   },
   {
    "duration": 33,
    "start_time": "2025-04-29T06:29:04.631Z"
   },
   {
    "duration": 21,
    "start_time": "2025-04-29T06:29:04.665Z"
   },
   {
    "duration": 41,
    "start_time": "2025-04-29T06:29:04.688Z"
   },
   {
    "duration": 300,
    "start_time": "2025-04-29T06:29:04.730Z"
   },
   {
    "duration": 289,
    "start_time": "2025-04-29T06:29:05.036Z"
   },
   {
    "duration": 200,
    "start_time": "2025-04-29T06:29:05.336Z"
   },
   {
    "duration": 306,
    "start_time": "2025-04-29T06:29:05.538Z"
   },
   {
    "duration": 203,
    "start_time": "2025-04-29T06:29:05.845Z"
   },
   {
    "duration": 293,
    "start_time": "2025-04-29T06:29:06.049Z"
   },
   {
    "duration": 153,
    "start_time": "2025-04-29T06:29:06.344Z"
   },
   {
    "duration": 4,
    "start_time": "2025-04-29T06:29:06.498Z"
   },
   {
    "duration": 160,
    "start_time": "2025-04-29T06:29:06.504Z"
   },
   {
    "duration": 4,
    "start_time": "2025-04-29T06:29:06.665Z"
   },
   {
    "duration": 308,
    "start_time": "2025-04-29T06:29:06.671Z"
   },
   {
    "duration": 164,
    "start_time": "2025-04-29T06:29:06.981Z"
   },
   {
    "duration": 10,
    "start_time": "2025-04-29T06:29:07.147Z"
   },
   {
    "duration": 33,
    "start_time": "2025-04-29T06:29:07.158Z"
   },
   {
    "duration": 48,
    "start_time": "2025-04-29T06:29:07.193Z"
   },
   {
    "duration": 29,
    "start_time": "2025-04-29T06:29:07.242Z"
   },
   {
    "duration": 14,
    "start_time": "2025-04-29T06:29:07.273Z"
   },
   {
    "duration": 2103,
    "start_time": "2025-06-24T15:08:16.776Z"
   },
   {
    "duration": 57,
    "start_time": "2025-06-24T15:08:18.881Z"
   },
   {
    "duration": 21,
    "start_time": "2025-06-24T15:08:18.972Z"
   },
   {
    "duration": 9,
    "start_time": "2025-06-24T15:08:18.995Z"
   },
   {
    "duration": 70,
    "start_time": "2025-06-24T15:08:19.006Z"
   },
   {
    "duration": 202,
    "start_time": "2025-06-24T15:08:19.078Z"
   },
   {
    "duration": 225,
    "start_time": "2025-06-24T15:08:19.373Z"
   },
   {
    "duration": 75,
    "start_time": "2025-06-24T15:08:19.600Z"
   },
   {
    "duration": 21,
    "start_time": "2025-06-24T15:08:19.676Z"
   },
   {
    "duration": 73,
    "start_time": "2025-06-24T15:08:19.699Z"
   },
   {
    "duration": 22,
    "start_time": "2025-06-24T15:08:19.774Z"
   },
   {
    "duration": 605,
    "start_time": "2025-06-24T15:08:19.797Z"
   },
   {
    "duration": 600,
    "start_time": "2025-06-24T15:08:20.404Z"
   },
   {
    "duration": 400,
    "start_time": "2025-06-24T15:08:21.008Z"
   },
   {
    "duration": 569,
    "start_time": "2025-06-24T15:08:21.410Z"
   },
   {
    "duration": 617,
    "start_time": "2025-06-24T15:08:21.980Z"
   },
   {
    "duration": 902,
    "start_time": "2025-06-24T15:08:22.671Z"
   },
   {
    "duration": 313,
    "start_time": "2025-06-24T15:08:23.576Z"
   },
   {
    "duration": 4,
    "start_time": "2025-06-24T15:08:23.891Z"
   },
   {
    "duration": 419,
    "start_time": "2025-06-24T15:08:23.897Z"
   },
   {
    "duration": 4,
    "start_time": "2025-06-24T15:08:24.373Z"
   },
   {
    "duration": 1294,
    "start_time": "2025-06-24T15:08:24.379Z"
   },
   {
    "duration": 425,
    "start_time": "2025-06-24T15:08:25.674Z"
   },
   {
    "duration": 14,
    "start_time": "2025-06-24T15:08:26.170Z"
   },
   {
    "duration": 86,
    "start_time": "2025-06-24T15:08:26.186Z"
   },
   {
    "duration": 201,
    "start_time": "2025-06-24T15:08:26.275Z"
   },
   {
    "duration": 194,
    "start_time": "2025-06-24T15:08:26.478Z"
   },
   {
    "duration": 107,
    "start_time": "2025-06-24T15:08:26.676Z"
   }
  ],
  "kernelspec": {
   "display_name": "Python 3 (ipykernel)",
   "language": "python",
   "name": "python3"
  },
  "language_info": {
   "codemirror_mode": {
    "name": "ipython",
    "version": 3
   },
   "file_extension": ".py",
   "mimetype": "text/x-python",
   "name": "python",
   "nbconvert_exporter": "python",
   "pygments_lexer": "ipython3",
   "version": "3.9.5"
  },
  "toc": {
   "base_numbering": 1,
   "nav_menu": {},
   "number_sections": true,
   "sideBar": true,
   "skip_h1_title": true,
   "title_cell": "Table of Contents",
   "title_sidebar": "Contents",
   "toc_cell": false,
   "toc_position": {},
   "toc_section_display": true,
   "toc_window_display": false
  }
 },
 "nbformat": 4,
 "nbformat_minor": 2
}
